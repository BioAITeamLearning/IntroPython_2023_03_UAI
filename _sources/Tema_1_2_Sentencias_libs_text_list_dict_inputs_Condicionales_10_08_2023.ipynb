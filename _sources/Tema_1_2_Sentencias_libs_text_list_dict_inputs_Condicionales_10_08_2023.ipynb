{
  "cells": [
    {
      "cell_type": "markdown",
      "metadata": {
        "id": "ic87WmsLlVmp"
      },
      "source": [
        "# Sentencias, Librerias básicas para operaciones, estructuras de datos y condicionales"
      ]
    },
    {
      "cell_type": "markdown",
      "metadata": {
        "id": "zKmUa74rUB2H"
      },
      "source": [
        "# Numeros Aleatorios"
      ]
    },
    {
      "cell_type": "code",
      "execution_count": null,
      "metadata": {
        "colab": {
          "base_uri": "https://localhost:8080/"
        },
        "id": "5QeydxsPUB2H",
        "outputId": "b90cd120-7fc0-4050-d960-42538fcb6b98"
      },
      "outputs": [
        {
          "name": "stdout",
          "output_type": "stream",
          "text": [
            "imprime un numero aleatorio entero= 6\n",
            "selecciona aleatoriamente= uno\n",
            "imprime un numero aleatorio decimal entre 0 y 1= 0.5535666555996817\n",
            "imprime una letra aleatoria= I\n"
          ]
        }
      ],
      "source": [
        "import random\n",
        "print('imprime un numero aleatorio entero=',random.randrange(3,10))\n",
        "print('selecciona aleatoriamente=',random.choice([\"uno\", \"dos\", \"tres\"]))\n",
        "print('imprime un numero aleatorio decimal entre 0 y 1=',random.random())\n",
        "print('imprime una letra aleatoria=',random.choice(\"AEIOU\"))"
      ]
    },
    {
      "cell_type": "code",
      "execution_count": null,
      "metadata": {
        "colab": {
          "base_uri": "https://localhost:8080/"
        },
        "id": "x13xEbjk0dna",
        "outputId": "5f906911-6766-4f88-d0f5-c082abc20347"
      },
      "outputs": [
        {
          "name": "stdout",
          "output_type": "stream",
          "text": [
            "imprime un numero aleatorio decimal entre 0 y 4= 2\n"
          ]
        }
      ],
      "source": [
        "print('imprime un numero aleatorio decimal entre 0 y 4=',int(4*random.random()))"
      ]
    },
    {
      "cell_type": "markdown",
      "metadata": {
        "id": "HM7dl75mUB2J"
      },
      "source": [
        "# Libreria Math"
      ]
    },
    {
      "cell_type": "code",
      "execution_count": null,
      "metadata": {
        "colab": {
          "base_uri": "https://localhost:8080/"
        },
        "id": "PCZJAKNqUB2K",
        "outputId": "fc1685cc-01d3-44f7-c44e-76e304f6c01e"
      },
      "outputs": [
        {
          "name": "stdout",
          "output_type": "stream",
          "text": [
            "Factorial= 6\n",
            "PI= 3.141592653589793\n",
            "E= 2.718281828459045\n",
            "seno= 0.49999999999999994\n",
            "aseno= 30.000000000000004\n",
            "Logaritmo Natural= 2.0\n",
            "Logaritmo en base 10= 2.0\n",
            "Logaritmo en base 2= 3.0\n",
            "Potencia= 9.0\n",
            "Raiz cuadrada= 2.0\n"
          ]
        }
      ],
      "source": [
        "import math\n",
        "print(\"Factorial=\",math.factorial(3))\n",
        "print(\"PI=\",math.pi)\n",
        "print(\"E=\",math.e)\n",
        "print(\"seno=\",math.sin(math.pi/6))\n",
        "print(\"aseno=\",math.degrees(math.asin(0.5)))\n",
        "print(\"Logaritmo Natural=\",math.log(math.exp(2)))\n",
        "print(\"Logaritmo en base 10=\",math.log10(100))\n",
        "print(\"Logaritmo en base 2=\",math.log2(8))\n",
        "print(\"Potencia=\",math.pow(3,2))\n",
        "print(\"Raiz cuadrada=\",math.sqrt(4))"
      ]
    },
    {
      "cell_type": "code",
      "execution_count": null,
      "metadata": {
        "colab": {
          "base_uri": "https://localhost:8080/",
          "height": 270
        },
        "id": "IEV8DQDPHtjG",
        "outputId": "17b2bd43-b080-4f98-be72-4fce87946220"
      },
      "outputs": [
        {
          "name": "stderr",
          "output_type": "stream",
          "text": [
            "<ipython-input-43-136236f1537d>:2: DeprecationWarning: `np.float` is a deprecated alias for the builtin `float`. To silence this warning, use `float` by itself. Doing this will not modify any behavior and is safe. If you specifically wanted the numpy scalar type, use `np.float64` here.\n",
            "Deprecated in NumPy 1.20; for more details and guidance: https://numpy.org/devdocs/release/1.20.0-notes.html#deprecations\n",
            "  np.float(5/0)\n"
          ]
        },
        {
          "ename": "ZeroDivisionError",
          "evalue": "ignored",
          "output_type": "error",
          "traceback": [
            "\u001b[0;31m---------------------------------------------------------------------------\u001b[0m",
            "\u001b[0;31mZeroDivisionError\u001b[0m                         Traceback (most recent call last)",
            "\u001b[0;32m<ipython-input-43-136236f1537d>\u001b[0m in \u001b[0;36m<cell line: 2>\u001b[0;34m()\u001b[0m\n\u001b[1;32m      1\u001b[0m \u001b[0;32mimport\u001b[0m \u001b[0mnumpy\u001b[0m \u001b[0;32mas\u001b[0m \u001b[0mnp\u001b[0m\u001b[0;34m\u001b[0m\u001b[0;34m\u001b[0m\u001b[0m\n\u001b[0;32m----> 2\u001b[0;31m \u001b[0mnp\u001b[0m\u001b[0;34m.\u001b[0m\u001b[0mfloat\u001b[0m\u001b[0;34m(\u001b[0m\u001b[0;36m5\u001b[0m\u001b[0;34m/\u001b[0m\u001b[0;36m0\u001b[0m\u001b[0;34m)\u001b[0m\u001b[0;34m\u001b[0m\u001b[0;34m\u001b[0m\u001b[0m\n\u001b[0m",
            "\u001b[0;31mZeroDivisionError\u001b[0m: division by zero"
          ]
        }
      ],
      "source": [
        "import numpy as np\n",
        "np.float(5/0)"
      ]
    },
    {
      "cell_type": "code",
      "execution_count": null,
      "metadata": {
        "colab": {
          "base_uri": "https://localhost:8080/",
          "height": 179
        },
        "id": "8vE79hovHtjG",
        "outputId": "081e0642-40cf-4fb3-dffb-8f1d63f7466c"
      },
      "outputs": [
        {
          "ename": "ZeroDivisionError",
          "evalue": "ignored",
          "output_type": "error",
          "traceback": [
            "\u001b[0;31m---------------------------------------------------------------------------\u001b[0m",
            "\u001b[0;31mZeroDivisionError\u001b[0m                         Traceback (most recent call last)",
            "\u001b[0;32m<ipython-input-44-0106664d39e8>\u001b[0m in \u001b[0;36m<cell line: 1>\u001b[0;34m()\u001b[0m\n\u001b[0;32m----> 1\u001b[0;31m \u001b[0;36m5\u001b[0m\u001b[0;34m/\u001b[0m\u001b[0;36m0\u001b[0m\u001b[0;34m\u001b[0m\u001b[0;34m\u001b[0m\u001b[0m\n\u001b[0m",
            "\u001b[0;31mZeroDivisionError\u001b[0m: division by zero"
          ]
        }
      ],
      "source": [
        "5/0"
      ]
    },
    {
      "cell_type": "markdown",
      "metadata": {
        "id": "U2ne8TJuUB2N"
      },
      "source": [
        "# Operaciones con cadena de texto"
      ]
    },
    {
      "cell_type": "code",
      "execution_count": null,
      "metadata": {
        "colab": {
          "base_uri": "https://localhost:8080/"
        },
        "id": "cSQP-PvnUB2O",
        "outputId": "8ca71cf1-bba0-46ab-d277-cca890035110"
      },
      "outputs": [
        {
          "name": "stdout",
          "output_type": "stream",
          "text": [
            "Un divertidoprogramaderadio\n",
            "programasprogramasprogramas\n",
            "longitud de la cadena: 27\n"
          ]
        }
      ],
      "source": [
        "#Suma o concatenación\n",
        "x=\"Un divertido\"+\"programa\"+\"de\"+\"radio\"\n",
        "print(x)\n",
        "#Multiplicación de una cadena con un número\n",
        "y=3*\"programas\"\n",
        "print(y)\n",
        "#Obtener longitud de una cadena\n",
        "print('longitud de la cadena:',len(y))"
      ]
    },
    {
      "cell_type": "code",
      "execution_count": null,
      "metadata": {
        "colab": {
          "base_uri": "https://localhost:8080/"
        },
        "id": "n0a_21HaUB2Q",
        "outputId": "70e838d4-4f49-4849-aa69-4416b40b52bd"
      },
      "outputs": [
        {
          "name": "stdout",
          "output_type": "stream",
          "text": [
            "acceder a una posicion determinada: p\n",
            "acceder a la última posición: A\n",
            "Texto entre comillas simples\n",
            "<class 'str'>\n",
            "Texto entre comillas dobles\n",
            "<class 'str'>\n"
          ]
        }
      ],
      "source": [
        "#Acceder  a una posición de la cadena\n",
        "cadena = \"programA\"\n",
        "print('acceder a una posicion determinada:',cadena[0])\n",
        "print('acceder a la última posición:',cadena[-1])\n",
        "\n",
        "# Comillas simples\n",
        "cadenaa = 'Texto entre comillas simples'\n",
        "print (cadenaa)\n",
        "print (type(cadenaa))\n",
        "\n",
        "# Comillas dobles\n",
        "cadenab = \"Texto entre comillas dobles\"\n",
        "print (cadenab)\n",
        "print (type(cadenab))"
      ]
    },
    {
      "cell_type": "code",
      "execution_count": null,
      "metadata": {
        "id": "QWIyRgxbUB2S"
      },
      "outputs": [],
      "source": [
        "cad='reinel'"
      ]
    },
    {
      "cell_type": "code",
      "execution_count": null,
      "metadata": {
        "colab": {
          "base_uri": "https://localhost:8080/",
          "height": 35
        },
        "id": "dHFMjDAYUB2V",
        "outputId": "e8694b76-b031-407d-fa32-3e32d3dad400"
      },
      "outputs": [
        {
          "data": {
            "application/vnd.google.colaboratory.intrinsic+json": {
              "type": "string"
            },
            "text/plain": [
              "'ine'"
            ]
          },
          "execution_count": 48,
          "metadata": {},
          "output_type": "execute_result"
        }
      ],
      "source": [
        "cad[2:5]"
      ]
    },
    {
      "cell_type": "code",
      "execution_count": null,
      "metadata": {
        "colab": {
          "base_uri": "https://localhost:8080/"
        },
        "id": "accup8gjUB2W",
        "outputId": "3f3ed4ae-7355-4107-c3a8-d16dc4301f4c"
      },
      "outputs": [
        {
          "name": "stdout",
          "output_type": "stream",
          "text": [
            "Texto entre \n",
            "\n",
            "\n",
            " \t\t\tcomillas simples\n",
            "<class 'str'>\n"
          ]
        }
      ],
      "source": [
        "cadenaesc = 'Texto entre \\n\\n\\n \\t\\t\\tcomillas simples'\n",
        "print (cadenaesc)\n",
        "print (type(cadenaesc))"
      ]
    },
    {
      "cell_type": "markdown",
      "metadata": {
        "id": "x4AefoHYUB2f"
      },
      "source": [
        "# Tuplas (Datos inmutables)"
      ]
    },
    {
      "cell_type": "markdown",
      "metadata": {
        "id": "hNzq9BfoUB2f"
      },
      "source": [
        "Las tuplas son más rápidas que las listas. Si define un conjunto **constante** de valores y todo lo que va a hacer es iterar sobre ellos, use una tupla en lugar de una lista.\n",
        "\n",
        "Una tupla es una secuencia de items ordenada e inmutable.\n",
        "\n",
        "Los items de una tupla pueden ser objetos de cualquier tipo.\n",
        "\n",
        "Para especificar una tupla, lo hacemos con los elementos separados por comas dentro de **paréntesis**.\n",
        "\n",
        "Una tupla con únicamente dos elementos es denominada par.\n",
        "\n",
        "Para crear una tupla con un único elemento (singleton), se añade una coma al final de la expresión.\n",
        "\n",
        "Para definir una tupla vacía, se emplean unos paréntesis vacíos."
      ]
    },
    {
      "cell_type": "code",
      "execution_count": null,
      "metadata": {
        "colab": {
          "base_uri": "https://localhost:8080/"
        },
        "id": "NhlVekEXUB2g",
        "outputId": "7d9442bd-8e60-48c7-d240-db2730c5b72f"
      },
      "outputs": [
        {
          "name": "stdout",
          "output_type": "stream",
          "text": [
            "('cadena de texto', 15, 2.8, 'otro dato', 25, 25)\n",
            "<class 'tuple'>\n",
            "(15, 2.8, 'otro dato')\n",
            "cuantas veces hay un elemento= 2\n",
            "dice en que posicion esta el elemento= 1\n"
          ]
        }
      ],
      "source": [
        "tupla = ('cadena de texto', 15, 2.8, 'otro dato', 25,25)\n",
        "print(tupla)\n",
        "print(type(tupla))\n",
        "print(tupla[1:4])\n",
        "print('cuantas veces hay un elemento=',tupla.count(25))\n",
        "print('dice en que posicion esta el elemento=',tupla.index(15))\n",
        "#tupla[0]=2# dado que es una TUPLA no se puede agregar ni borrar información."
      ]
    },
    {
      "cell_type": "code",
      "execution_count": null,
      "metadata": {
        "colab": {
          "base_uri": "https://localhost:8080/"
        },
        "id": "BW-EA51oufx8",
        "outputId": "d3516410-5034-43a6-9756-1b5c1ed504ca"
      },
      "outputs": [
        {
          "data": {
            "text/plain": [
              "(('cadena de texto', 15, 2.8, 'otro dato', 25, 25),\n",
              " tuple,\n",
              " (15, 2.8, 'otro dato', 25),\n",
              " 2,\n",
              " 1)"
            ]
          },
          "execution_count": 51,
          "metadata": {},
          "output_type": "execute_result"
        }
      ],
      "source": [
        "tupla, type(tupla), tupla[1:-1],tupla.count(25),tupla.index(15)"
      ]
    },
    {
      "cell_type": "code",
      "execution_count": null,
      "metadata": {
        "id": "itI6A3DLu7p5"
      },
      "outputs": [],
      "source": [
        "# Usando el tag: raises-exception, se evita que se detenga en compilación\n",
        "#tupla[0]=2"
      ]
    },
    {
      "cell_type": "markdown",
      "metadata": {
        "id": "PDZV7BWIUB2h"
      },
      "source": [
        "# Listas (Datos no inmutables)"
      ]
    },
    {
      "cell_type": "markdown",
      "metadata": {
        "id": "t-U8t9EPUB2i"
      },
      "source": [
        "Una lista es una secuencia ordenada de elementos **mutable**.\n",
        "\n",
        "Los items de una lista pueden ser objetos de distintos tipos.\n",
        "\n",
        "Para especificar una lista se indican los elementos separados por comas en el interior de **CORCHETES**.\n",
        "\n",
        "Para denotar una lista vacía se emplean dos corchetes vacíos."
      ]
    },
    {
      "cell_type": "code",
      "execution_count": null,
      "metadata": {
        "colab": {
          "base_uri": "https://localhost:8080/"
        },
        "id": "YMbuMBM6UB2i",
        "outputId": "cc7a6bd0-bed9-4812-d647-ec6f14f90656"
      },
      "outputs": [
        {
          "name": "stdout",
          "output_type": "stream",
          "text": [
            "Toda la lista=  [1, 2, 3, 'hola', [10, 'nunca', 90], -32]\n",
            "<class 'list'>\n",
            "Longitud de la lista=  6\n",
            "Acceder a un rango de posiciones= [1, 2, 3, 'hola']\n",
            "Acceder a una posición específica=  [10, 'nunca', 90]\n",
            "Acceder a la última posición=  -32\n"
          ]
        }
      ],
      "source": [
        "a = [1,2,3,\"hola\", [10, \"nunca\", 90], -32]\n",
        "print (\"Toda la lista= \",a)\n",
        "print(type(a))\n",
        "print (\"Longitud de la lista= \", len(a))\n",
        "print(\"Acceder a un rango de posiciones=\",a[0:4])\n",
        "print(\"Acceder a una posición específica= \",a[4])\n",
        "print(\"Acceder a la última posición= \",a[-1])"
      ]
    },
    {
      "cell_type": "code",
      "execution_count": null,
      "metadata": {
        "colab": {
          "base_uri": "https://localhost:8080/"
        },
        "id": "voXIHPIVUB2l",
        "outputId": "ea0983f0-30bd-4aa7-8346-25835828666d"
      },
      "outputs": [
        {
          "name": "stdout",
          "output_type": "stream",
          "text": [
            "Lista=  [1, 2, 3, 'hola', [10, 'nunca', 90], -32]\n",
            "Lista con nuevo último=  [1, 2, 3, 'hola', [10, 'nunca', 90], -32, 'Nuevo último']\n",
            "Lista con nuevo elemento en las posición 1=  [1, 'nuevo1', 3, 'hola', [10, 'nunca', 90], -32, 'Nuevo último']\n",
            "Lista con nuevo elemento en las posición 2=  [1, 'nuevo1', 'nuevo2', 3, 'hola', [10, 'nunca', 90], -32, 'Nuevo último']\n"
          ]
        }
      ],
      "source": [
        "print(\"Lista= \",a)\n",
        "a.append(\"Nuevo último\")\n",
        "print(\"Lista con nuevo último= \",a)\n",
        "a[1]='nuevo1'\n",
        "print(\"Lista con nuevo elemento en las posición 1= \",a)\n",
        "a.insert(2,'nuevo2')\n",
        "print(\"Lista con nuevo elemento en las posición 2= \",a)"
      ]
    },
    {
      "cell_type": "code",
      "execution_count": null,
      "metadata": {
        "colab": {
          "base_uri": "https://localhost:8080/"
        },
        "id": "doRMsUkl6H2g",
        "outputId": "db01e9a7-29d7-4121-8a40-77e4be8b31f1"
      },
      "outputs": [
        {
          "data": {
            "text/plain": [
              "([1, 'nuevo1', 'nuevo2', 3, 'hola', [10, 'nunca', 90], -32, 'Nuevo último'],\n",
              " list,\n",
              " 8)"
            ]
          },
          "execution_count": 55,
          "metadata": {},
          "output_type": "execute_result"
        }
      ],
      "source": [
        "a,type(a),len(a)"
      ]
    },
    {
      "cell_type": "code",
      "execution_count": null,
      "metadata": {
        "colab": {
          "base_uri": "https://localhost:8080/"
        },
        "id": "WuEvXSZOUB2v",
        "outputId": "96f047ab-9220-40c8-f0e1-361e33891890"
      },
      "outputs": [
        {
          "name": "stdout",
          "output_type": "stream",
          "text": [
            "0 --> 1\n",
            "1 --> nuevo1\n",
            "2 --> nuevo2\n",
            "3 --> 3\n",
            "4 --> hola\n",
            "5 --> [10, 'nunca', 90]\n",
            "6 --> -32\n",
            "7 --> Nuevo último\n"
          ]
        }
      ],
      "source": [
        "for i in range(len(a)):\n",
        "    print (i, \"-->\", a[i])"
      ]
    },
    {
      "cell_type": "code",
      "execution_count": null,
      "metadata": {
        "colab": {
          "base_uri": "https://localhost:8080/"
        },
        "id": "prtcGw3-UB2x",
        "outputId": "da5b1b26-033c-4bee-8948-1982bb6b776e"
      },
      "outputs": [
        {
          "name": "stdout",
          "output_type": "stream",
          "text": [
            "1\n",
            "nuevo1\n",
            "nuevo2\n",
            "3\n",
            "hola\n",
            "[10, 'nunca', 90]\n",
            "-32\n",
            "Nuevo último\n"
          ]
        }
      ],
      "source": [
        "for i in a:\n",
        "    print (i)"
      ]
    },
    {
      "cell_type": "code",
      "execution_count": null,
      "metadata": {
        "colab": {
          "base_uri": "https://localhost:8080/"
        },
        "id": "6U5NQSYEUB2z",
        "outputId": "b88ba708-1acc-4b47-a5e3-3158a777c163"
      },
      "outputs": [
        {
          "name": "stdout",
          "output_type": "stream",
          "text": [
            "[1, 'nuevo1', 'nuevo2', 3, 'hola', [10, 'nunca', 90], -32, 'Nuevo último']\n",
            "['nuevo2', 3, 'hola', [10, 'nunca', 90], -32, 'Nuevo último']\n",
            "[[10, 'nunca', 90], -32, 'Nuevo último']\n",
            "hola\n"
          ]
        }
      ],
      "source": [
        "print(a)\n",
        "print (a[2:])\n",
        "print (a[-3:])\n",
        "print (a[4])"
      ]
    },
    {
      "cell_type": "code",
      "execution_count": null,
      "metadata": {
        "colab": {
          "base_uri": "https://localhost:8080/"
        },
        "id": "BNiiL6bIUB28",
        "outputId": "94e77aff-56c6-4637-d566-0a1d8acf01a4"
      },
      "outputs": [
        {
          "name": "stdout",
          "output_type": "stream",
          "text": [
            "[10, 'nunca', 90]\n",
            "10\n",
            "nunca\n",
            "nca\n"
          ]
        }
      ],
      "source": [
        "a = [1,2,3,\"hola\", [10, \"nunca\", 90], -32]\n",
        "print (a[4])\n",
        "print (a[4][0])\n",
        "print (a[4][1])\n",
        "print (a[4][1][2:])"
      ]
    },
    {
      "cell_type": "markdown",
      "metadata": {
        "id": "gwNkhidcUB29"
      },
      "source": [
        "# Diccionarios"
      ]
    },
    {
      "cell_type": "markdown",
      "metadata": {
        "id": "zbvw5_YsUB2-"
      },
      "source": [
        "Los diccionarios de Python son una lista de consulta de términos de los cuales se proporcionan valores asociados.\n",
        "En Python, un diccionario es una colección **no-ordenada** de valores que son accedidos a traves de una clave. Es decir, en lugar de acceder a la información mediante el índice numérico, como es el caso de las listas y tuplas, es posible acceder a los valores a través de sus claves, que pueden ser de diversos tipo.\n",
        "Las claves son únicas dentro de un diccionario, es decir que no puede haber un diccionario que tenga dos veces la misma clave, si se asigna un valor a una clave ya existente, se reemplaza el valor anterior.\n",
        "No hay una forma directa de acceder a una clave a través de su valor, y nada impide que un mismo valor se encuentre asignado a distintas claves.\n",
        "La informacion almacenada en los diccionarios, no tiene un orden particular. Ni por clave ni por valor, ni tampoco por el orden en que han sido agregados al diccionario.\n",
        "Cualquier variable de tipo inmutable, puede ser clave de un diccionario: cadenas, enteros, tuplas (con valores inmutables en sus miembros), etc. No hay restricciones para los valores que el diccionario puede contener, cualquier tipo puede ser el valor: listas, cadenas, tuplas, otros diccionarios, objetos, etc."
      ]
    },
    {
      "cell_type": "code",
      "execution_count": null,
      "metadata": {
        "colab": {
          "base_uri": "https://localhost:8080/"
        },
        "id": "wP1XQw5aUB2-",
        "outputId": "84d87576-f3b9-4a37-a5b9-f5a6feb0b7c3"
      },
      "outputs": [
        {
          "name": "stdout",
          "output_type": "stream",
          "text": [
            "Vemos que los elementos no van \"ordenados\":\n",
            "1 --> Casillas\n",
            "6 --> Iniesta\n",
            "3 --> Piqué\n",
            "5 --> Puyol\n",
            "7 --> Villa\n",
            "8 --> Xavi Hernández\n",
            "9 --> Torres\n",
            "11 --> Capdevila\n",
            "14 --> Xavi Alonso\n",
            "15 --> Ramos\n",
            "16 --> Busquets\n"
          ]
        }
      ],
      "source": [
        "# Definir una variable diccionario\n",
        "futbolistas = dict()\n",
        "\n",
        "futbolistas = {\n",
        "    1: \"Casillas\", 6: \"Iniesta\",3: \"Piqué\",\n",
        "    5: \"Puyol\",\n",
        "    7: \"Villa\", 8: \"Xavi Hernández\",\n",
        "    9: \"Torres\", 11: \"Capdevila\",\n",
        "    14: \"Xavi Alonso\", 15: \"Ramos\",\n",
        "    16: \"Busquets\"\n",
        "}\n",
        "\n",
        "# Recorrer el diccionario, imprimiendo clave - valor\n",
        "print (\"Vemos que los elementos no van \\\"ordenados\\\":\")\n",
        "for k, v in futbolistas.items():\n",
        "    print (\"{} --> {}\".format(k,v))"
      ]
    },
    {
      "cell_type": "code",
      "execution_count": null,
      "metadata": {
        "colab": {
          "base_uri": "https://localhost:8080/"
        },
        "id": "S_e9IScMtqwS",
        "outputId": "2328b538-8200-42d5-b703-cfe502a23956"
      },
      "outputs": [
        {
          "data": {
            "text/plain": [
              "(dict_items([(1, 'Casillas'), (6, 'Iniesta'), (3, 'Piqué'), (5, 'Puyol'), (7, 'Villa'), (8, 'Xavi Hernández'), (9, 'Torres'), (11, 'Capdevila'), (14, 'Xavi Alonso'), (15, 'Ramos'), (16, 'Busquets')]),\n",
              " dict_keys([1, 6, 3, 5, 7, 8, 9, 11, 14, 15, 16]),\n",
              " dict_values(['Casillas', 'Iniesta', 'Piqué', 'Puyol', 'Villa', 'Xavi Hernández', 'Torres', 'Capdevila', 'Xavi Alonso', 'Ramos', 'Busquets']))"
            ]
          },
          "execution_count": 61,
          "metadata": {},
          "output_type": "execute_result"
        }
      ],
      "source": [
        "futbolistas.items(),futbolistas.keys(),futbolistas.values()"
      ]
    },
    {
      "cell_type": "code",
      "execution_count": null,
      "metadata": {
        "colab": {
          "base_uri": "https://localhost:8080/"
        },
        "id": "UYgdcLAcfqAf",
        "outputId": "e34898ea-6bc0-4618-ccd8-66dedaccbac2"
      },
      "outputs": [
        {
          "name": "stdout",
          "output_type": "stream",
          "text": [
            "\n",
            "El número de futbolistas es de 11\n",
            "\n",
            "Las claves de nuestro diccionario son : dict_keys([1, 6, 3, 5, 7, 8, 9, 11, 14, 15, 16])\n",
            "\n",
            "Los valores de nuestro diccionario son : dict_values(['Casillas', 'Iniesta', 'Piqué', 'Puyol', 'Villa', 'Xavi Hernández', 'Torres', 'Capdevila', 'Xavi Alonso', 'Ramos', 'Busquets'])\n"
          ]
        }
      ],
      "source": [
        "# Nº de elementos que tiene un diccionario\n",
        "numElemen = len(futbolistas)\n",
        "print (\"\\nEl número de futbolistas es de {}\".format(numElemen))\n",
        "\n",
        "# Imprimir las claves que tiene un diccionario\n",
        "keys = futbolistas.keys();\n",
        "print (\"\\nLas claves de nuestro diccionario son : {}\".format(keys))\n",
        "\n",
        "# Imprimir los valores que tiene un diccionario\n",
        "values = futbolistas.values();\n",
        "print (\"\\nLos valores de nuestro diccionario son : {}\".format(values))\n"
      ]
    },
    {
      "cell_type": "code",
      "execution_count": null,
      "metadata": {
        "colab": {
          "base_uri": "https://localhost:8080/"
        },
        "id": "kv7rvkSIf4XD",
        "outputId": "0b51a492-2159-4597-c2b6-4947703d0e9b"
      },
      "outputs": [
        {
          "name": "stdout",
          "output_type": "stream",
          "text": [
            "\n",
            "El futbolista con clave 6 es Iniesta\n",
            "\n",
            "Insertamos el elemento con clave 10 y valor Cesc\n",
            "Ahora el diccionario queda : {1: 'Casillas', 6: 'Iniesta', 3: 'Piqué', 5: 'Puyol', 7: 'Villa', 8: 'Xavi Hernández', 9: 'Torres', 11: 'Capdevila', 14: 'Xavi Alonso', 15: 'Ramos', 16: 'Busquets', 10: 'Cesc'}\n",
            "\n",
            "Añadimos un nuevo elemento, ahora el diccionario queda: \n",
            "{1: 'Casillas', 6: 'Iniesta', 3: 'Piqué', 5: 'Puyol', 7: 'Villa', 8: 'Xavi Hernández', 9: 'Torres', 11: 'Capdevila', 14: 'Xavi Alonso', 15: 'Ramos', 16: 'Busquets', 10: 'Cesc', 22: 'Navas'}\n"
          ]
        }
      ],
      "source": [
        "# Obtener el valor de un elemento dada su clave\n",
        "elem = futbolistas.get(6)\n",
        "print (\"\\nEl futbolista con clave 6 es {}\".format(elem))\n",
        "\n",
        "# Insertamos un elemento en el diccionario\n",
        "## si la clave ya existe, el elemento NO se inserta\n",
        "futbolistas.setdefault(10, 'Cesc')\n",
        "print (\"\\nInsertamos el elemento con clave 10 y valor Cesc\")\n",
        "print (\"Ahora el diccionario queda : {}\".format(futbolistas))\n",
        "\n",
        "# Añadimos, de otro modo, un elemento al diccionario\n",
        "## si la clave ya existe, el valor se cambia por este nuevo\n",
        "futbolistas[22] = 'Navas'\n",
        "print (\"\\nAñadimos un nuevo elemento, ahora el diccionario queda: \")\n",
        "print (futbolistas)\n"
      ]
    },
    {
      "cell_type": "code",
      "execution_count": null,
      "metadata": {
        "colab": {
          "base_uri": "https://localhost:8080/"
        },
        "id": "__rthEvTf4Zv",
        "outputId": "c06e219d-5a28-4e66-c487-512a70f8ab5f"
      },
      "outputs": [
        {
          "name": "stdout",
          "output_type": "stream",
          "text": [
            "\n",
            "Eliminamos el elemento con clave 22\n",
            "Ahora el diccionario queda: {1: 'Casillas', 6: 'Iniesta', 3: 'Piqué', 5: 'Puyol', 7: 'Villa', 8: 'Xavi Hernández', 9: 'Torres', 11: 'Capdevila', 14: 'Xavi Alonso', 15: 'Ramos', 16: 'Busquets', 10: 'Cesc'}\n",
            "\n",
            "La copia del diccionario tiene los valores:\n",
            "{1: 'Casillas', 6: 'Iniesta', 3: 'Piqué', 5: 'Puyol', 7: 'Villa', 8: 'Xavi Hernández', 9: 'Torres', 11: 'Capdevila', 14: 'Xavi Alonso', 15: 'Ramos', 16: 'Busquets', 10: 'Cesc'}\n",
            "\n",
            "Vaciamos el diccionario nuevo creado, ahora los valores en el: {}\n"
          ]
        }
      ],
      "source": [
        "# Eliminamos un elemento del diccionario dada su clave\n",
        "futbolistas.pop(22)\n",
        "print (\"\\nEliminamos el elemento con clave 22\")\n",
        "print (\"Ahora el diccionario queda: {}\".format(futbolistas))\n",
        "\n",
        "# Hacemos una copia del diccionario\n",
        "futbolistas_copia = futbolistas.copy()\n",
        "print (\"\\nLa copia del diccionario tiene los valores:\")\n",
        "print (futbolistas_copia)\n",
        "\n",
        "# Borramos los elementos de un diccionario\n",
        "futbolistas_copia.clear()\n",
        "print (\"\\nVaciamos el diccionario nuevo creado, ahora los valores en el: {}\".format(futbolistas_copia))\n"
      ]
    },
    {
      "cell_type": "code",
      "execution_count": null,
      "metadata": {
        "colab": {
          "base_uri": "https://localhost:8080/"
        },
        "id": "rKI14LMJfqEU",
        "outputId": "8d6b894b-be3e-49ef-b5af-c6c5d6ed3d89"
      },
      "outputs": [
        {
          "name": "stdout",
          "output_type": "stream",
          "text": [
            "\n",
            "El futbolista con la clave 2 NO existe en el diccionario.\n",
            "\n",
            "El futbolista con la clave 8 existe en el diccionario.\n"
          ]
        }
      ],
      "source": [
        "# Comprobamos si existe o no una clave en un diccionario\n",
        "if 2 in futbolistas:\n",
        "    print (\"\\nEl futbolista con la clave 2 existe en el diccionario.\")\n",
        "else:\n",
        "    print (\"\\nEl futbolista con la clave 2 NO existe en el diccionario.\")\n",
        "\n",
        "if 8 in futbolistas:\n",
        "    print (\"\\nEl futbolista con la clave 8 existe en el diccionario.\")\n",
        "else:\n",
        "    print (\"\\nEl futbolista con la clave 8 NO existe en el diccionario.\")"
      ]
    },
    {
      "cell_type": "code",
      "execution_count": null,
      "metadata": {
        "colab": {
          "base_uri": "https://localhost:8080/"
        },
        "id": "QTe5uk4wZwBd",
        "outputId": "4150b8e6-b1c8-47f2-c8fd-656759b675a5"
      },
      "outputs": [
        {
          "name": "stdout",
          "output_type": "stream",
          "text": [
            "\n",
            "Creamos un diccionario a partir de la lista de claves:\n",
            "['nombre', 'apellidos', 'edad']\n",
            "y con valor 'null'\n",
            "Así el diccionario queda: {'nombre': 'null', 'apellidos': 'null', 'edad': 'null'}\n",
            "{1: 'rei', 2: 'pepe', 3: 'javier'}\n"
          ]
        }
      ],
      "source": [
        "# Creamos un diccionario a partir de una lista de claves\n",
        "keys = ['nombre', 'apellidos', 'edad']\n",
        "datos_usuario = dict.fromkeys(keys, 'null')\n",
        "print (\"\\nCreamos un diccionario a partir de la lista de claves:\")\n",
        "print (keys)\n",
        "print (\"y con valor 'null'\")\n",
        "print (\"Así el diccionario queda: {}\".format(datos_usuario))\n",
        "\n",
        "# Creación de un diccionario\n",
        "diccionario=dict({1:'rei',2:'pepe',3:'javier'})\n",
        "print(diccionario)"
      ]
    },
    {
      "cell_type": "code",
      "execution_count": null,
      "metadata": {
        "colab": {
          "base_uri": "https://localhost:8080/"
        },
        "id": "PvoXJMx-fqKH",
        "outputId": "ef2f23b7-0bf0-4e1d-f485-0705b3c67773"
      },
      "outputs": [
        {
          "name": "stdout",
          "output_type": "stream",
          "text": [
            "\n",
            "El diccionario convertido en tupla queda así:\n",
            "dict_items([(1, 'Casillas'), (6, 'Iniesta'), (3, 'Piqué'), (5, 'Puyol'), (7, 'Villa'), (8, 'Xavi Hernández'), (9, 'Torres'), (11, 'Capdevila'), (14, 'Xavi Alonso'), (15, 'Ramos'), (16, 'Busquets'), (10, 'Cesc')])\n",
            "\n",
            "Unimos el diccionario: \n",
            "{1: 'Casillas', 6: 'Iniesta', 3: 'Piqué', 5: 'Puyol', 7: 'Villa', 8: 'Xavi Hernández', 9: 'Torres', 11: 'Capdevila', 14: 'Xavi Alonso', 15: 'Ramos', 16: 'Busquets', 10: 'Cesc'}\n",
            "con el diccionario:\n",
            "{4: 'Marchena', 12: 'Valdes', 13: 'Mata', 17: 'Arbeloa', 19: 'Llorente', 20: 'Javi Martinez', 21: 'Silva', 23: 'Reina'}\n",
            "siendo el resultado:\n",
            "{1: 'Casillas', 6: 'Iniesta', 3: 'Piqué', 5: 'Puyol', 7: 'Villa', 8: 'Xavi Hernández', 9: 'Torres', 11: 'Capdevila', 14: 'Xavi Alonso', 15: 'Ramos', 16: 'Busquets', 10: 'Cesc', 4: 'Marchena', 12: 'Valdes', 13: 'Mata', 17: 'Arbeloa', 19: 'Llorente', 20: 'Javi Martinez', 21: 'Silva', 23: 'Reina'}\n"
          ]
        }
      ],
      "source": [
        "# Devolvemos los elementos del diccionario en una tupla\n",
        "tupla = futbolistas.items()\n",
        "print (\"\\nEl diccionario convertido en tupla queda así:\")\n",
        "print (tupla)\n",
        "\n",
        "# Unimos dos diccionarios existentes\n",
        "suplentes = {\n",
        "    4:'Marchena', 12:'Valdes', 13:'Mata',\n",
        "    17:'Arbeloa', 19:'Llorente', 20:'Javi Martinez',\n",
        "    21:'Silva', 23:'Reina'\n",
        "}\n",
        "\n",
        "print (\"\\nUnimos el diccionario: \")\n",
        "print (futbolistas)\n",
        "futbolistas.update(suplentes) # Aquí hacemos la unión de los diccionarios\n",
        "print (\"con el diccionario:\")\n",
        "print (suplentes)\n",
        "print (\"siendo el resultado:\")\n",
        "print (futbolistas)"
      ]
    },
    {
      "cell_type": "markdown",
      "metadata": {
        "id": "IcCOSky8UB2Y"
      },
      "source": [
        "# Entrada y salida de datos"
      ]
    },
    {
      "cell_type": "code",
      "execution_count": null,
      "metadata": {
        "colab": {
          "base_uri": "https://localhost:8080/"
        },
        "id": "Zzv88UnWUB2Y",
        "outputId": "743d54ae-5065-4b46-dccd-0540daeb65bb"
      },
      "outputs": [
        {
          "name": "stdout",
          "output_type": "stream",
          "text": [
            "ingrese el dato 1: 3\n",
            "ingrese el dato 2: 5\n",
            "tipo de datos <class 'str'> <class 'str'>\n",
            "suma de datos sin casteo 35\n",
            "suma de datos con casteo 8.0\n"
          ]
        }
      ],
      "source": [
        "#Entrada de datos\n",
        "x=input('ingrese el dato 1: ');\n",
        "y=input('ingrese el dato 2: ');\n",
        "print('tipo de datos',type(x),type(y))\n",
        "print('suma de datos sin casteo',x+y)\n",
        "print('suma de datos con casteo',float(x)+float(y))"
      ]
    },
    {
      "cell_type": "markdown",
      "metadata": {
        "id": "OVCLtPfGUB2a"
      },
      "source": [
        "# Operadores relacionales"
      ]
    },
    {
      "cell_type": "markdown",
      "metadata": {
        "id": "OcSuhLioUB2a"
      },
      "source": [
        "![image.png](data:image/png;base64,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)"
      ]
    },
    {
      "cell_type": "code",
      "execution_count": null,
      "metadata": {
        "colab": {
          "base_uri": "https://localhost:8080/"
        },
        "id": "r4xtvnDmUB2b",
        "outputId": "792931e2-da06-4ff3-89b6-2868cc6cc151"
      },
      "outputs": [
        {
          "name": "stdout",
          "output_type": "stream",
          "text": [
            "True\n",
            "False\n",
            "True\n",
            "True\n",
            "True\n",
            "True\n",
            "True\n",
            "True\n"
          ]
        }
      ],
      "source": [
        "a = 5\n",
        "b = 5\n",
        "a1 = 7\n",
        "b1 = 3\n",
        "c1 = 3\n",
        "\n",
        "cadena1 = 'Hola'\n",
        "cadena2 = 'Adios'\n",
        "\n",
        "\n",
        "\n",
        "# igual\n",
        "c = a == b\n",
        "print (c)\n",
        "\n",
        "cadenas = cadena1 == cadena2\n",
        "print (cadenas)\n",
        "\n",
        "# diferente\n",
        "d = a1 != b\n",
        "print (d)\n",
        "\n",
        "cadena0 = cadena1 != cadena2\n",
        "print (cadena0)\n",
        "\n",
        "# mayor que\n",
        "e = a1 > b1\n",
        "print (e)\n",
        "\n",
        "# menor que\n",
        "f = b1 < a1\n",
        "print (f)\n",
        "\n",
        "# mayor o igual que\n",
        "g = b1 >= c1\n",
        "print (g)\n",
        "\n",
        "# menor o igual que\n",
        "h = b1 <= c1\n",
        "print (h)"
      ]
    },
    {
      "cell_type": "code",
      "execution_count": null,
      "metadata": {
        "colab": {
          "base_uri": "https://localhost:8080/"
        },
        "id": "goD1l0VHq_H6",
        "outputId": "fc6bae07-340c-4125-9225-546b769c82fc"
      },
      "outputs": [
        {
          "data": {
            "text/plain": [
              "True"
            ]
          },
          "execution_count": 70,
          "metadata": {},
          "output_type": "execute_result"
        }
      ],
      "source": [
        "5==5"
      ]
    },
    {
      "cell_type": "code",
      "execution_count": null,
      "metadata": {
        "colab": {
          "base_uri": "https://localhost:8080/"
        },
        "id": "RLawe21Ptmeb",
        "outputId": "e2642d72-99f6-49fc-bc7b-a590816aeef1"
      },
      "outputs": [
        {
          "data": {
            "text/plain": [
              "True"
            ]
          },
          "execution_count": 71,
          "metadata": {},
          "output_type": "execute_result"
        }
      ],
      "source": [
        "7!=9"
      ]
    },
    {
      "cell_type": "code",
      "execution_count": null,
      "metadata": {
        "id": "2VF91Z9mtJVn"
      },
      "outputs": [],
      "source": [
        "cadena1 = 'Hola'"
      ]
    },
    {
      "cell_type": "code",
      "execution_count": null,
      "metadata": {
        "colab": {
          "base_uri": "https://localhost:8080/",
          "height": 35
        },
        "id": "WpccqQQztMot",
        "outputId": "2dfd6ef9-7c11-4646-88e2-70be8d33d322"
      },
      "outputs": [
        {
          "data": {
            "application/vnd.google.colaboratory.intrinsic+json": {
              "type": "string"
            },
            "text/plain": [
              "'Hola'"
            ]
          },
          "execution_count": 73,
          "metadata": {},
          "output_type": "execute_result"
        }
      ],
      "source": [
        "cadena1"
      ]
    },
    {
      "cell_type": "markdown",
      "metadata": {
        "id": "vjsi1r7dUB3S"
      },
      "source": [
        "# Operadores lógicos"
      ]
    },
    {
      "cell_type": "markdown",
      "metadata": {
        "id": "2rvytLYx81j7"
      },
      "source": [
        "Operador AND (`and`)\n",
        "\n",
        "<img src=\"https://aristoteles2pc.files.wordpress.com/2011/03/tabla-de-verdad.png?w=225&h=300\" height=225>"
      ]
    },
    {
      "cell_type": "code",
      "execution_count": null,
      "metadata": {
        "id": "VTEv1u6y81j8",
        "outputId": "4ef14193-a6bb-4616-ce75-21a1d7aef9f3"
      },
      "outputs": [
        {
          "name": "stdout",
          "output_type": "stream",
          "text": [
            "False\n",
            "False\n",
            "False\n",
            "True\n"
          ]
        }
      ],
      "source": [
        "# 0 = False, 1 = True\n",
        "print(False and False)\n",
        "print(False and True)\n",
        "print(True and False)\n",
        "print(True and True)"
      ]
    },
    {
      "cell_type": "markdown",
      "metadata": {
        "id": "m-gVWb8l81j8"
      },
      "source": [
        "Operador OR (`or`)\n",
        "\n",
        "<img src=\"https://aristoteles2pc.files.wordpress.com/2011/03/or1.png?w=228&h=300\" height=225>"
      ]
    },
    {
      "cell_type": "code",
      "execution_count": null,
      "metadata": {
        "id": "_54NyejY81j8",
        "outputId": "c65c25dc-deca-40bc-f103-812100b3eaf6"
      },
      "outputs": [
        {
          "name": "stdout",
          "output_type": "stream",
          "text": [
            "False\n",
            "True\n",
            "True\n",
            "True\n"
          ]
        }
      ],
      "source": [
        "print(False or False)\n",
        "print(False or True)\n",
        "print(False or True)\n",
        "print(True or True)"
      ]
    },
    {
      "cell_type": "markdown",
      "metadata": {
        "id": "7MDoHg6W81j8"
      },
      "source": [
        "Operador Negación o NOT (`not`)\n",
        "\n",
        "<img src=\"https://aristoteles2pc.files.wordpress.com/2011/03/not1.png\" height=180>\n"
      ]
    },
    {
      "cell_type": "code",
      "execution_count": null,
      "metadata": {
        "id": "T11Mwk6W81j8",
        "outputId": "b001330c-0877-4d3c-dbdd-f97222415e33"
      },
      "outputs": [
        {
          "name": "stdout",
          "output_type": "stream",
          "text": [
            "True\n",
            "False\n"
          ]
        }
      ],
      "source": [
        "print(not False)\n",
        "print(not True)"
      ]
    },
    {
      "cell_type": "markdown",
      "metadata": {
        "id": "V5FwI2gL81j9"
      },
      "source": [
        "Operador XOR (`^`)\n",
        "\n",
        "<img src=\"https://i.stack.imgur.com/Q7U6I.png\" height=150>"
      ]
    },
    {
      "cell_type": "code",
      "execution_count": null,
      "metadata": {
        "id": "muBCklzC81j9",
        "outputId": "bc4c3b76-7726-4242-d5ae-71ec4d859884"
      },
      "outputs": [
        {
          "name": "stdout",
          "output_type": "stream",
          "text": [
            "False\n",
            "True\n",
            "True\n",
            "False\n"
          ]
        }
      ],
      "source": [
        "print(False ^ False)\n",
        "print(False ^ True)\n",
        "print(True ^ False)\n",
        "print(True ^ True)"
      ]
    },
    {
      "cell_type": "markdown",
      "metadata": {
        "id": "gbVKNHdz81j9"
      },
      "source": [
        "<a name='2'></a>\n",
        "## Operadores Aritméticos"
      ]
    },
    {
      "cell_type": "markdown",
      "metadata": {
        "id": "qeC1XWo781j9"
      },
      "source": [
        "<table>\n",
        "<thead>\n",
        "<tr>\n",
        "<th style=\"text-align:center\">Operador</th>\n",
        "<th style=\"text-align:center\">Descripción</th>\n",
        "<th style=\"text-align:center\">Uso</th>\n",
        "</tr>\n",
        "</thead>\n",
        "<tbody>\n",
        "<tr>\n",
        "<td style=\"text-align:center\">+</td>\n",
        "<td style=\"text-align:center\">Realiza Adición entre los operandos</td>\n",
        "<td style=\"text-align:center\">12 + 3 = 15</td>\n",
        "</tr>\n",
        "<tr>\n",
        "<td style=\"text-align:center\">-</td>\n",
        "<td style=\"text-align:center\">Realiza Substracción entre los operandos</td>\n",
        "<td style=\"text-align:center\">12 - 3 = 9</td>\n",
        "</tr>\n",
        "<tr>\n",
        "<td style=\"text-align:center\">*</td>\n",
        "<td style=\"text-align:center\">Realiza Multiplicación entre los operandos</td>\n",
        "<td style=\"text-align:center\">12 * 3 = 36</td>\n",
        "</tr>\n",
        "<tr>\n",
        "<td style=\"text-align:center\">/</td>\n",
        "<td style=\"text-align:center\">Realiza División entre los operandos</td>\n",
        "<td style=\"text-align:center\">12 / 3 = 4</td>\n",
        "</tr>\n",
        "<tr>\n",
        "<td style=\"text-align:center\">%</td>\n",
        "<td style=\"text-align:center\">Realiza un módulo entre los operandos</td>\n",
        "<td style=\"text-align:center\">16 % 3 = 1</td>\n",
        "</tr>\n",
        "<tr>\n",
        "<td style=\"text-align:center\">**</td>\n",
        "<td style=\"text-align:center\">Realiza la potencia de los operandos</td>\n",
        "<td style=\"text-align:center\">12 ** 3 = 1728</td>\n",
        "</tr>\n",
        "<tr>\n",
        "<td style=\"text-align:center\">//</td>\n",
        "<td style=\"text-align:center\">Realiza la división con resultado de número entero</td>\n",
        "<td style=\"text-align:center\">18 // 5 = 3</td>\n",
        "</tr>\n",
        "</tbody>\n",
        "</table>"
      ]
    },
    {
      "cell_type": "code",
      "execution_count": null,
      "metadata": {
        "id": "gdm-Ilf881j9"
      },
      "outputs": [],
      "source": [
        "a = 2\n",
        "b = 6"
      ]
    },
    {
      "cell_type": "code",
      "execution_count": null,
      "metadata": {
        "id": "kKn0Vs6K81j-",
        "outputId": "be6672e8-f0ee-4592-8b2d-1c6503f628cc"
      },
      "outputs": [
        {
          "name": "stdout",
          "output_type": "stream",
          "text": [
            "<class 'int'>\n",
            "<class 'int'>\n"
          ]
        }
      ],
      "source": [
        "# Tipo de dato 'a'\n",
        "print(type(a))\n",
        "\n",
        "# Tipo de dato 'b'\n",
        "print(type(b))"
      ]
    },
    {
      "cell_type": "code",
      "execution_count": null,
      "metadata": {
        "id": "mXah1jYe81j-",
        "outputId": "78a166bb-f54e-4824-e8e6-382412bfd027"
      },
      "outputs": [
        {
          "name": "stdout",
          "output_type": "stream",
          "text": [
            "8\n",
            "-4\n",
            "12\n",
            "36\n",
            "0.3333333333333333\n",
            "0\n",
            "2\n"
          ]
        }
      ],
      "source": [
        "print(a + b)\n",
        "print(a - b)\n",
        "print(a * b)\n",
        "print(b ** 2)\n",
        "print(a / b)\n",
        "print(a // b)\n",
        "print(a % b)"
      ]
    },
    {
      "cell_type": "code",
      "execution_count": null,
      "metadata": {
        "id": "wO6ot5zq81j-",
        "outputId": "5d323e0b-01d4-4510-fa44-cd4033eb8b98"
      },
      "outputs": [
        {
          "name": "stdout",
          "output_type": "stream",
          "text": [
            "0\n",
            "<class 'int'>\n"
          ]
        }
      ],
      "source": [
        "c = a//b\n",
        "print(c)\n",
        "\n",
        "# Tipo de variable 'c'\n",
        "print(type(c))"
      ]
    },
    {
      "cell_type": "code",
      "execution_count": null,
      "metadata": {
        "id": "mkgTxjem81j-"
      },
      "outputs": [],
      "source": [
        "a = 6\n",
        "b = 2\n",
        "c = 2."
      ]
    },
    {
      "cell_type": "code",
      "execution_count": null,
      "metadata": {
        "id": "5gnczhbM81j-",
        "outputId": "f5c8376f-b773-4e0b-a039-098f968fb417"
      },
      "outputs": [
        {
          "name": "stdout",
          "output_type": "stream",
          "text": [
            "<class 'int'>\n",
            "<class 'int'>\n",
            "<class 'float'>\n"
          ]
        }
      ],
      "source": [
        "# Tipo de variable 'a'\n",
        "print(type(a))\n",
        "\n",
        "# Tipo de variable 'b'\n",
        "print(type(b))\n",
        "\n",
        "# Tipo de variable 'c'\n",
        "print(type(c))"
      ]
    },
    {
      "cell_type": "code",
      "execution_count": null,
      "metadata": {
        "id": "zrAhtJjI81j_",
        "outputId": "9b073e79-abeb-4417-fbaa-55d763fe62cd"
      },
      "outputs": [
        {
          "name": "stdout",
          "output_type": "stream",
          "text": [
            "3.0\n",
            "<class 'float'>\n",
            "3.0\n",
            "<class 'float'>\n"
          ]
        }
      ],
      "source": [
        "operacion_a = a/b\n",
        "\n",
        "operacion_b = a/c\n",
        "\n",
        "print(operacion_a)\n",
        "# Tipo de dato 'operacion_a'\n",
        "print(type(operacion_a))\n",
        "\n",
        "print(operacion_b)\n",
        "# Tipo de dato 'operacion_b'\n",
        "print(type(operacion_b))"
      ]
    },
    {
      "cell_type": "code",
      "execution_count": null,
      "metadata": {
        "id": "9Eu2_cRf81j_",
        "outputId": "50cdfefc-2b52-4eed-a195-54029be6e4cc"
      },
      "outputs": [
        {
          "name": "stdout",
          "output_type": "stream",
          "text": [
            "3\n",
            "<class 'int'>\n",
            "3.0\n",
            "<class 'float'>\n"
          ]
        }
      ],
      "source": [
        "operacion_A = a//b\n",
        "\n",
        "operacion_B = a//c\n",
        "\n",
        "print(operacion_A)\n",
        "# Tipo de dato 'operacion_A'\n",
        "print(type(operacion_A))\n",
        "\n",
        "print(operacion_B)\n",
        "# Tipo de dato 'operacion_B'\n",
        "print(type(operacion_B))"
      ]
    },
    {
      "cell_type": "markdown",
      "metadata": {
        "id": "UXXaxOwt81j_"
      },
      "source": [
        "<a name='3'></a>\n",
        "## Operadores Relacionales"
      ]
    },
    {
      "cell_type": "markdown",
      "metadata": {
        "id": "PU4lvEXz81j_"
      },
      "source": [
        "![image.png](data:image/png;base64,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)"
      ]
    },
    {
      "cell_type": "code",
      "execution_count": null,
      "metadata": {
        "id": "4EQqNEcF81kA"
      },
      "outputs": [],
      "source": [
        "num_1 = 2\n",
        "num_2 = 5\n",
        "num_3 = 2.0001\n",
        "num_4 = 2\n",
        "letra_E = 'E'\n",
        "letra_e = 'e'"
      ]
    },
    {
      "cell_type": "code",
      "execution_count": null,
      "metadata": {
        "id": "2u7sEKe581kA",
        "outputId": "9dd0a271-1522-4908-a803-3c8fbce534f1"
      },
      "outputs": [
        {
          "name": "stdout",
          "output_type": "stream",
          "text": [
            "<class 'int'>\n",
            "<class 'int'>\n",
            "<class 'float'>\n",
            "<class 'int'>\n",
            "<class 'str'>\n",
            "<class 'str'>\n"
          ]
        }
      ],
      "source": [
        "# Tipo de dato 'num_1'\n",
        "print(type(num_1))\n",
        "\n",
        "# Tipo de dato 'num_2'\n",
        "print(type(num_2))\n",
        "\n",
        "# Tipo de dato 'num_3'\n",
        "print(type(num_3))\n",
        "\n",
        "# Tipo de dato 'num_4'\n",
        "print(type(num_4))\n",
        "\n",
        "# Tipo de dato 'letra_E'\n",
        "print(type(letra_E))\n",
        "\n",
        "# Tipo de dato 'letra_e'\n",
        "print(type(letra_e))"
      ]
    },
    {
      "cell_type": "code",
      "execution_count": null,
      "metadata": {
        "id": "hDSj3Rvg81kA",
        "outputId": "f7bfbf6c-4ee2-445a-a275-417562145037"
      },
      "outputs": [
        {
          "name": "stdout",
          "output_type": "stream",
          "text": [
            "False\n"
          ]
        }
      ],
      "source": [
        "# 2 es mayor que 5?\n",
        "print(num_1 > num_2)"
      ]
    },
    {
      "cell_type": "code",
      "execution_count": null,
      "metadata": {
        "id": "afRHbHJh81kB",
        "outputId": "35321149-798d-49e6-8d76-5ade635a2d05"
      },
      "outputs": [
        {
          "name": "stdout",
          "output_type": "stream",
          "text": [
            "True\n"
          ]
        }
      ],
      "source": [
        "# 2 es menor que 5?\n",
        "print(num_1 < num_2)"
      ]
    },
    {
      "cell_type": "code",
      "execution_count": null,
      "metadata": {
        "id": "5bZz5S-H81kB",
        "outputId": "857acf1b-f70e-4a1c-d283-a8c2d37a75de"
      },
      "outputs": [
        {
          "name": "stdout",
          "output_type": "stream",
          "text": [
            "False\n"
          ]
        }
      ],
      "source": [
        "# 2 es mayor o igual que 5?\n",
        "print(num_1 >= num_2)"
      ]
    },
    {
      "cell_type": "code",
      "execution_count": null,
      "metadata": {
        "id": "fn-BMPSp81kB",
        "outputId": "10f6e232-b4f8-4882-be3c-a9d889dff992"
      },
      "outputs": [
        {
          "name": "stdout",
          "output_type": "stream",
          "text": [
            "True\n",
            "True\n"
          ]
        }
      ],
      "source": [
        "# 2 es menor o igual que 5?\n",
        "print(num_1 <= num_2)\n",
        "\n",
        "# 2 es menor o igual que 2?\n",
        "print(num_1 <= num_4)"
      ]
    },
    {
      "cell_type": "code",
      "execution_count": null,
      "metadata": {
        "id": "7jwKtlwg81kB",
        "outputId": "709e5c31-f457-491c-829d-b860f1f7d8d9"
      },
      "outputs": [
        {
          "name": "stdout",
          "output_type": "stream",
          "text": [
            "False\n"
          ]
        }
      ],
      "source": [
        "# 2 es igual a 2.0001?\n",
        "print(num_1 == num_3)"
      ]
    },
    {
      "cell_type": "code",
      "execution_count": null,
      "metadata": {
        "id": "-yRUjZ6D81kB",
        "outputId": "44e1abc5-eee3-46dd-c736-f32e5ba36d34"
      },
      "outputs": [
        {
          "name": "stdout",
          "output_type": "stream",
          "text": [
            "True\n"
          ]
        }
      ],
      "source": [
        "# 2 es diferente a 2.0001?\n",
        "print(num_1 != num_3)"
      ]
    },
    {
      "cell_type": "code",
      "execution_count": null,
      "metadata": {
        "id": "kCK4T8xD81kC",
        "outputId": "e3a488c1-f96b-4de5-a0d4-62aa644db841"
      },
      "outputs": [
        {
          "name": "stdout",
          "output_type": "stream",
          "text": [
            "True\n"
          ]
        }
      ],
      "source": [
        "# la letra 'E' es diferente a la letra 'e'?\n",
        "print(letra_E != letra_e);"
      ]
    },
    {
      "cell_type": "markdown",
      "metadata": {
        "id": "P2gEsD3881kC"
      },
      "source": [
        "<a name='4'></a>\n",
        "## Operadores de Asignación"
      ]
    },
    {
      "cell_type": "markdown",
      "metadata": {
        "id": "AY4YSjUV81kC"
      },
      "source": [
        "<table>\n",
        "<thead>\n",
        "<tr>\n",
        "<th style=\"text-align:center\">Operador</th>\n",
        "<th style=\"text-align:center\">Descripción</th>\n",
        "</tr>\n",
        "</thead>\n",
        "<tbody>\n",
        "<tr>\n",
        "<td style=\"text-align:center\">=</td>\n",
        "<td style=\"text-align:center\">a = 5. El valor 5 es asignado a la variable a</td>\n",
        "</tr>\n",
        "<tr>\n",
        "<td style=\"text-align:center\">+=</td>\n",
        "<td style=\"text-align:center\">a += 5 es equivalente a a = a + 5</td>\n",
        "</tr>\n",
        "<tr>\n",
        "<td style=\"text-align:center\">-=</td>\n",
        "<td style=\"text-align:center\">a -= 5 es equivalente a a = a - 5</td>\n",
        "</tr>\n",
        "<tr>\n",
        "<td style=\"text-align:center\">*=</td>\n",
        "<td style=\"text-align:center\">a *= 3 es equivalente a a = a * 3</td>\n",
        "</tr>\n",
        "<tr>\n",
        "<td style=\"text-align:center\">/=</td>\n",
        "<td style=\"text-align:center\">a /= 3 es equivalente a a = a / 3</td>\n",
        "</tr>\n",
        "<tr>\n",
        "<td style=\"text-align:center\">%=</td>\n",
        "<td style=\"text-align:center\">a %= 3 es equivalente a a = a % 3</td>\n",
        "</tr>\n",
        "<tr>\n",
        "<td style=\"text-align:center\">**=</td>\n",
        "<td style=\"text-align:center\">a **= 3 es equivalente a a = a ** 3</td>\n",
        "</tr>\n",
        "<tr>\n",
        "<td style=\"text-align:center\">//=</td>\n",
        "<td style=\"text-align:center\">a //= 3 es equivalente a a = a // 3</td>\n",
        "</tr>\n",
        "</tbody>\n",
        "</table>"
      ]
    },
    {
      "cell_type": "code",
      "execution_count": null,
      "metadata": {
        "id": "qiZkdHS_81kC",
        "outputId": "5f326746-1138-49bd-de16-02a8996dfdb1"
      },
      "outputs": [
        {
          "name": "stdout",
          "output_type": "stream",
          "text": [
            "5\n",
            "-8\n",
            "4\n",
            "16\n",
            "1.0\n",
            "1.0\n",
            "0\n"
          ]
        }
      ],
      "source": [
        "var3 = 2\n",
        "var3 += 3\n",
        "print(var3)\n",
        "\n",
        "var3 = 2\n",
        "var3 -= 10\n",
        "print(var3)\n",
        "\n",
        "var3 = 2\n",
        "var3 *= 2\n",
        "print(var3)\n",
        "\n",
        "var3 = 2\n",
        "var3 **= 4\n",
        "print(var3)\n",
        "\n",
        "var3 = 2\n",
        "var3 /= 2\n",
        "print(var3)\n",
        "\n",
        "var3 = 2\n",
        "var3 //= 1.5\n",
        "print(var3)\n",
        "\n",
        "var3 = 2\n",
        "var3 %= 1\n",
        "print(var3)"
      ]
    },
    {
      "cell_type": "markdown",
      "metadata": {
        "id": "D3lMpmRP81kC"
      },
      "source": [
        "<a name='5'></a>\n",
        "## Jerarquia de Operadores"
      ]
    },
    {
      "cell_type": "markdown",
      "metadata": {
        "id": "8L-3FZOM81kD"
      },
      "source": [
        "| Jerarquia |\n",
        "|-------------------|\n",
        "| Paréntesis `( )` |\n",
        "| Exponente `**`|\n",
        "| División (`/`) y Módulo (`%`) |\n",
        "| Multiplicación (`*`) |\n",
        "| Suma (`+`) y Resta (`-`) |\n",
        "| Operadores Relacionales (`>`, `<`, `>=`, `<=`, `==`, `!=`) |\n",
        "| Negación (`not`) |\n",
        "| Conjunción (`and`) |\n",
        "| Disyunción inclusiva (`or`) |\n",
        "| Operadores de Asignación |"
      ]
    },
    {
      "cell_type": "markdown",
      "metadata": {
        "id": "4Q2N4z3y81kD"
      },
      "source": [
        "*Para más información sobre prioridad de operadores en Python visite este [enlace](https://interactivechaos.com/es/manual/tutorial-de-python/precedencia-de-operadores)*"
      ]
    },
    {
      "cell_type": "code",
      "execution_count": null,
      "metadata": {
        "id": "ElwZTAet81kD",
        "outputId": "61967c36-9df3-4ddc-8772-ca549270f4c4"
      },
      "outputs": [
        {
          "name": "stdout",
          "output_type": "stream",
          "text": [
            "15628\n"
          ]
        }
      ],
      "source": [
        "print( 5 ** (2 * 3) + 3 )"
      ]
    },
    {
      "cell_type": "code",
      "execution_count": null,
      "metadata": {
        "id": "tm5ALF2281kD",
        "outputId": "4b96afef-589d-4d7a-c5a9-6ead97c1022f"
      },
      "outputs": [
        {
          "name": "stdout",
          "output_type": "stream",
          "text": [
            "6\n"
          ]
        }
      ],
      "source": [
        "print( 5 % 2 * 3 + 3 )"
      ]
    },
    {
      "cell_type": "code",
      "execution_count": null,
      "metadata": {
        "id": "t6cOGpPO81kD",
        "outputId": "b9ada7c6-ac52-42da-c2e8-69f7784c8e03"
      },
      "outputs": [
        {
          "name": "stdout",
          "output_type": "stream",
          "text": [
            "8\n"
          ]
        }
      ],
      "source": [
        "print( 5 % (2 * 3) + 3 )"
      ]
    },
    {
      "cell_type": "code",
      "execution_count": null,
      "metadata": {
        "id": "zFKFylYe81kE",
        "outputId": "0bed2d42-6aad-4c2c-f558-bc976788e75a"
      },
      "outputs": [
        {
          "name": "stdout",
          "output_type": "stream",
          "text": [
            "False\n"
          ]
        }
      ],
      "source": [
        "a = -5\n",
        "b = 3\n",
        "c = 2\n",
        "\n",
        "print( a / b * a / c > b - a * c )"
      ]
    },
    {
      "cell_type": "code",
      "execution_count": null,
      "metadata": {
        "id": "fvJW0Kuk81kE",
        "outputId": "b2d6c8a9-104d-497c-f53d-f12ead39de33"
      },
      "outputs": [
        {
          "name": "stdout",
          "output_type": "stream",
          "text": [
            "True\n"
          ]
        }
      ],
      "source": [
        "a = 10\n",
        "b = 7\n",
        "c = -1\n",
        "\n",
        "print( a %  b + c * a > 3 or c * c < 5 )"
      ]
    },
    {
      "cell_type": "markdown",
      "metadata": {
        "id": "01nhd-9381kE"
      },
      "source": [
        "<a name='6'></a>\n",
        "## Ejercicio"
      ]
    },
    {
      "cell_type": "markdown",
      "metadata": {
        "id": "yMDIVv9181kE"
      },
      "source": [
        "Realice una impresión de una factura que muestre:\n",
        "* El precio individual de una hamburguesa (5 dolares)\n",
        "* El precio invididual de una gaseosa (2 dolares)\n",
        "* El precio del menú con hamburguesa, gaseosa y papas cuyo costo es de 10 dolares\n",
        "* El precio total sin IVA\n",
        "* El precio total con IVA del 8%"
      ]
    },
    {
      "cell_type": "code",
      "execution_count": null,
      "metadata": {
        "id": "9DEuJx3181kE"
      },
      "outputs": [],
      "source": []
    },
    {
      "cell_type": "markdown",
      "metadata": {
        "id": "p0yFkcijUB3Q"
      },
      "source": [
        "# Estructuras condicionadas\n",
        "\n",
        "Es una estructura que controla el flujo del programa.\n",
        "\n",
        "\n",
        "Se utiliza if para especificar un bloque de código a ejecutar, si una condición especificada es verdadera."
      ]
    },
    {
      "cell_type": "markdown",
      "metadata": {
        "id": "e_VAgq9TUB3Q"
      },
      "source": [
        "<img src='https://aprendeconalf.es/manual-r/img/04-estructuras-control/condicional-simple.png' width=500>"
      ]
    },
    {
      "cell_type": "code",
      "execution_count": null,
      "metadata": {
        "colab": {
          "base_uri": "https://localhost:8080/"
        },
        "id": "a0AigYlKUB3R",
        "outputId": "16d6fe9c-dcd4-4221-9d60-2ae7f3c0bb6c"
      },
      "outputs": [
        {
          "name": "stdout",
          "output_type": "stream",
          "text": [
            "si\n",
            "si2\n",
            "PorFuera2\n"
          ]
        }
      ],
      "source": [
        "if 5>2:\n",
        "  print('si')\n",
        "  print('si2')"
      ]
    },
    {
      "cell_type": "code",
      "execution_count": null,
      "metadata": {
        "id": "6vq8UaDZ81kF"
      },
      "outputs": [],
      "source": [
        "a=2\n",
        "b=5\n",
        "if (b > a):\n",
        "  print(\"b is greater than a\")\n"
      ]
    },
    {
      "cell_type": "markdown",
      "metadata": {
        "id": "Fu4jbDuJ81kF"
      },
      "source": [
        "<img src=\"https://aprendeconalf.es/manual-r/img/04-estructuras-control/condicional-multiple.png\" width=500/>"
      ]
    },
    {
      "cell_type": "markdown",
      "metadata": {
        "id": "M0RJWtCw81kF"
      },
      "source": [
        "Se utiliza else para especificar un bloque de código a ejecutar, si la misma condición es falsa."
      ]
    },
    {
      "cell_type": "code",
      "execution_count": null,
      "metadata": {
        "id": "ZnMCvjmR81kF"
      },
      "outputs": [],
      "source": [
        "a=2\n",
        "b=5\n",
        "if (b > a):\n",
        "  print(\"b is greater than a\")\n",
        "else:\n",
        "  print(\"b is not greater than a\")"
      ]
    },
    {
      "cell_type": "markdown",
      "metadata": {
        "id": "k0W8ZVJb81kF"
      },
      "source": [
        "Se utiliza elif para especificar una nueva condición a probar, si la primera condición es falsa."
      ]
    },
    {
      "cell_type": "code",
      "execution_count": null,
      "metadata": {
        "id": "ZPcbjjze81kG",
        "outputId": "61476667-bb84-4485-8d9e-21da84df2211"
      },
      "outputs": [
        {
          "name": "stdout",
          "output_type": "stream",
          "text": [
            "si\n",
            "si2\n",
            "PorFuera2\n"
          ]
        }
      ],
      "source": [
        "if 5>2:\n",
        "  print('si')\n",
        "  print('si2')\n",
        "elif 1>3:\n",
        "  print('sino si')\n",
        "else:\n",
        "    print('no')\n",
        "    print('PorFuera')\n",
        "print('PorFuera2')"
      ]
    },
    {
      "cell_type": "markdown",
      "metadata": {
        "id": "mUlIjZUHUB3U"
      },
      "source": [
        "## Ejercicios"
      ]
    },
    {
      "cell_type": "markdown",
      "metadata": {
        "id": "8I7oH0XgUB3V"
      },
      "source": [
        "1. Realice un programa que pida la edad de una persona en años. Si la edad es mayor o igual a 18, el programa debe imprimir la cadena: ‘ADULTO’. Si la edad es menor a 18 se debe imprimir: ‘MENOR DE EDAD’.\n",
        "\n",
        "2. Diseñe un algoritmo que determine si ún número es o no es, par positivo.\n",
        "\n",
        "3. Diseñe un algoritmo que lea un número de tres cifras y determine si es igual al revés del número.\n"
      ]
    },
    {
      "cell_type": "code",
      "execution_count": null,
      "metadata": {
        "id": "dG9i4os_qvZb"
      },
      "outputs": [],
      "source": [
        "# Escribe aquí tu código\n"
      ]
    },
    {
      "cell_type": "markdown",
      "metadata": {
        "id": "igXedies81kG"
      },
      "source": [
        "## Más ejemplos de estructuras condicionales\n",
        "\n",
        "Realizar un programa que me diga si una persona es mayor de edad e imprima el mensaje `\"Mientras usted viva en esta casa se hará lo que yo diga\"`, en caso de que viva en la casa de sus padres y sea mayor de edad. Debe pedir la edad del usuario y preguntar si vive o no en la casa de sus padres.\n",
        "\n",
        "*Implementación de `if` anidados. Los `if` anidados son estructuras que establecen condiciones consecutivas donde se encandenan, esto tiene diferentes aplicaciones desde hacer validaciones hasta generar filtros de condición.*"
      ]
    },
    {
      "cell_type": "code",
      "execution_count": 1,
      "metadata": {
        "colab": {
          "base_uri": "https://localhost:8080/"
        },
        "id": "2JPZZ9wJ81kH",
        "outputId": "1e370012-6cfc-43c7-9383-a2f4fe3f12eb"
      },
      "outputs": [
        {
          "output_type": "stream",
          "name": "stdout",
          "text": [
            "Ingrese la edad:\n",
            "12\n",
            "Vive en casa (si/no):\n",
            "no\n",
            "Usted es un bebé\n"
          ]
        }
      ],
      "source": [
        "# Variable para leer la edad\n",
        "print(\"Ingrese la edad:\")\n",
        "edad = int(input())\n",
        "\n",
        "# Variable para leer si o no\n",
        "print(\"Vive en casa (si/no):\")\n",
        "casa = input()\n",
        "\n",
        "# Acción con if anidados\n",
        "if edad > 0:\n",
        "    if edad >= 18:\n",
        "        print(\"Es mayor de edad\")\n",
        "        if casa == \"si\":\n",
        "            print(\"Mientras usted viva en esta casa se hará lo que yo diga\")\n",
        "        else:\n",
        "            print(\"Puede hacer lo que le dé la gana en su casa\")\n",
        "    else:\n",
        "        print(\"Usted es un bebé\")\n",
        "else:\n",
        "    print(\"Aprenda a escribir edades\")\n"
      ]
    },
    {
      "cell_type": "markdown",
      "metadata": {
        "id": "IaH4r5yy81kH"
      },
      "source": [
        "## Ejercicio\n",
        "\n",
        "*`if` anidado incorporando `else`*\n",
        "\n",
        "Realizar un programa donde se le pida a un usuario que ingrese la temperatura actual de forma que si la temperatura es mayor a $15°$ Celsius pase a la siguiente condición, donde se le pregunta si es mayor a $25°$ Celsius, en caso de ser así, imprimir el mensaje `\"A la playa\"`, de lo contrario imprimir `A la montaña!`."
      ]
    },
    {
      "cell_type": "code",
      "execution_count": 2,
      "metadata": {
        "colab": {
          "base_uri": "https://localhost:8080/"
        },
        "id": "LMQA11Ah81kH",
        "outputId": "f4d00de2-8763-4d28-b2e5-6384342d70ed"
      },
      "outputs": [
        {
          "output_type": "stream",
          "name": "stdout",
          "text": [
            "Ingrese el valor de la temperatura:\n",
            "60\n",
            "¡A la playa!\n"
          ]
        }
      ],
      "source": [
        "# Variable para leer la temperatura\n",
        "print(\"Ingrese el valor de la temperatura:\")\n",
        "temperatura = float(input())\n",
        "\n",
        "if temperatura > 15:\n",
        "    if temperatura > 25:\n",
        "        # Si la temperatura es mayor que 25 ...\n",
        "        print(\"¡A la playa!\")\n",
        "    else:\n",
        "        print(\"¡A la montaña!\")\n"
      ]
    },
    {
      "cell_type": "markdown",
      "metadata": {
        "id": "trNnhYPN81kH"
      },
      "source": [
        "## Ejercicio\n",
        "\n",
        "Realizar un programa que pida por teclado 2 números enteros diferentes y compare e imprima el mayor de ellos."
      ]
    },
    {
      "cell_type": "code",
      "execution_count": 3,
      "metadata": {
        "colab": {
          "base_uri": "https://localhost:8080/"
        },
        "id": "taHMDG_x81kH",
        "outputId": "0eb6b3af-6063-4341-86f1-dcf297816851"
      },
      "outputs": [
        {
          "output_type": "stream",
          "name": "stdout",
          "text": [
            "Ingrese el primer numero: \n",
            "3\n",
            "Ingrese el segundo numero: \n",
            "45\n",
            "El número mayor es: 45\n"
          ]
        }
      ],
      "source": [
        "# Se pueden definir n variables del mismo tipo en la misma linea:\n",
        "num1, num2 = 0, 0\n",
        "\n",
        "# Variable para leer enteros\n",
        "print(\"Ingrese el primer numero: \")\n",
        "num1 = int(input())\n",
        "print(\"Ingrese el segundo numero: \")\n",
        "num2 = int(input())\n",
        "\n",
        "# Comparar numeros\n",
        "if num1 > num2:\n",
        "    print(\"El número mayor es:\", num1)\n",
        "else:\n",
        "    print(\"El número mayor es:\", num2)"
      ]
    },
    {
      "cell_type": "markdown",
      "metadata": {
        "id": "6csorExy81kH"
      },
      "source": [
        "## Ejercicio\n",
        "\n",
        "Realizar un programa que simule un inicio de sesión solicitando el nombre de usuario y contraseña. Mostrar un mensaje en pantalla si el inicio de sesión es correcto o incorrecto."
      ]
    },
    {
      "cell_type": "code",
      "execution_count": 4,
      "metadata": {
        "colab": {
          "base_uri": "https://localhost:8080/"
        },
        "id": "mCVstkMY81kH",
        "outputId": "5d4075b8-9f18-46f4-83b8-849e58a6c0f5"
      },
      "outputs": [
        {
          "output_type": "stream",
          "name": "stdout",
          "text": [
            "Ingrese Nombre de usuario: \n",
            "juan\n",
            "Ingrese Clave de usuario: \n",
            "admin23\n",
            "Nombre de Usuario o Contraseña Incorrecto\n"
          ]
        }
      ],
      "source": [
        "# Definiendo variables String en la misma línea:\n",
        "nombre, clave = \"\", \"\"\n",
        "\n",
        "# Variable para leer String\n",
        "print(\"Ingrese Nombre de usuario: \")\n",
        "nombre = input()\n",
        "print(\"Ingrese Clave de usuario: \")\n",
        "clave = input()\n",
        "\n",
        "# Validar entradas\n",
        "if nombre == \"Juan\" and clave == \"123456\":\n",
        "    print(\"Bienvenido al Sistema\")\n",
        "else:\n",
        "    print(\"Nombre de Usuario o Contraseña Incorrecto\")\n"
      ]
    },
    {
      "cell_type": "markdown",
      "metadata": {
        "id": "vkVHhWVL81kI"
      },
      "source": [
        "## Ejercicio\n",
        "\n",
        "Una farmacia desea un programa para ingresar el valor de compra y calcular lo siguiente: si el pago se efectúa al `\"contado\"`, calcular un descuento del $5%$; pero si el pago es con `\"tarjeta\"` se incrementa un recargo del $3%$ al valor de compra. Calcular y visualizar el descuento o recargo según sea el caso y el total a pagar de la compra."
      ]
    },
    {
      "cell_type": "code",
      "execution_count": 5,
      "metadata": {
        "colab": {
          "base_uri": "https://localhost:8080/"
        },
        "id": "yrwCVA4Q81kI",
        "outputId": "8e91bd15-f289-4a31-9318-fa41fcbfae12"
      },
      "outputs": [
        {
          "output_type": "stream",
          "name": "stdout",
          "text": [
            "Ingrese el valor de la compra: \n",
            "234\n",
            "Ingrese tipo de pago: \n",
            "contado\n",
            "El descuento es: 11.700000000000001\n",
            "El total es: 222.3\n"
          ]
        }
      ],
      "source": [
        "# Definir variables double en una sola línea\n",
        "valor, descuento, recargo, total = 0.0, 0.0, 0.0, 0.0\n",
        "\n",
        "# Definir String\n",
        "tipo_pago = \"\"\n",
        "\n",
        "# Variable para leer String\n",
        "print(\"Ingrese el valor de la compra: \")\n",
        "valor = float(input())\n",
        "print(\"Ingrese tipo de pago: \")\n",
        "tipo_pago = input().lower()\n",
        "\n",
        "# Descuento y recargo\n",
        "descuento = 0.05 * valor\n",
        "recargo = 0.03 * valor\n",
        "\n",
        "if tipo_pago == \"contado\":\n",
        "    print(\"El descuento es:\", descuento)\n",
        "    total = valor - descuento\n",
        "    print(\"El total es:\", total)\n",
        "else:\n",
        "    print(\"El recargo es:\", recargo)\n",
        "    total = valor + recargo\n",
        "    print(\"El total es:\", total)\n"
      ]
    },
    {
      "cell_type": "markdown",
      "metadata": {
        "id": "V34bHIHL81kI"
      },
      "source": [
        "## Ejercicio\n",
        "\n",
        "*`elif` es una alternativa al uso de los `if` anidados y la estructura `else`, este se activa como una condición alternativa si el resultado es falso en la condición inicial, esta funciona como un `else` pero iterativo y consecutivamente se cierra con `else`.*\n",
        "\n",
        "Realizar un programa que le pregunte al usuario la cantidad de satelites que tiene Jupiter y valide e imprima un mensaje si ha acertado o no."
      ]
    },
    {
      "cell_type": "code",
      "execution_count": 6,
      "metadata": {
        "colab": {
          "base_uri": "https://localhost:8080/"
        },
        "id": "yjbV7zOX81kI",
        "outputId": "8578d37d-338d-4537-dc6a-a434708492e2"
      },
      "outputs": [
        {
          "output_type": "stream",
          "name": "stdout",
          "text": [
            "¿Cuantos satélites tiene Júpiter?\n",
            "2\n",
            "Lo siento, pero no es la respuesta correcta :(\n"
          ]
        }
      ],
      "source": [
        "# Variable para leer String\n",
        "print(\"¿Cuantos satélites tiene Júpiter?\")\n",
        "C = int(input())\n",
        "\n",
        "# Validar e imprimir mensaje\n",
        "if C == 79:\n",
        "    print(\"¡Felicidades, has acertado la pregunta! :)\")\n",
        "elif C != 79:\n",
        "    print(\"Lo siento, pero no es la respuesta correcta :(\")\n"
      ]
    },
    {
      "cell_type": "markdown",
      "metadata": {
        "id": "oiHvFgQw81kI"
      },
      "source": [
        "## Ejercicio\n",
        "\n",
        "Realizar un programa que le pida al usuario un número del 1 al 7 y que imprima el día de la semana que corresponde a ese número."
      ]
    },
    {
      "cell_type": "code",
      "execution_count": 7,
      "metadata": {
        "colab": {
          "base_uri": "https://localhost:8080/"
        },
        "id": "s-gYrmFG81kI",
        "outputId": "fcb02fe4-bf87-4778-a805-f40d9df0c0f6"
      },
      "outputs": [
        {
          "output_type": "stream",
          "name": "stdout",
          "text": [
            "Ingrese un número del 1 al 7: \n",
            "3\n",
            "El día es Miércoles\n"
          ]
        }
      ],
      "source": [
        "# Realizar un programa que le pida al usuario un número del 1 al 7 y que imprima el día de la semana que corresponde a ese número.\n",
        "\n",
        "# Variable para leer String\n",
        "print(\"Ingrese un número del 1 al 7: \")\n",
        "dia = int(input())\n",
        "\n",
        "# Validar e imprimir mensaje\n",
        "if dia == 1:\n",
        "    print(\"El día es Lunes\")\n",
        "elif dia == 2:\n",
        "    print(\"El día es Martes\")\n",
        "elif dia == 3:\n",
        "    print(\"El día es Miércoles\")\n",
        "elif dia == 4:\n",
        "    print(\"El día es Jueves\")\n",
        "elif dia == 5:\n",
        "    print(\"El día es Viernes\")\n",
        "elif dia == 6:\n",
        "    print(\"El día es Sábado\")\n",
        "elif dia == 7:\n",
        "    print(\"El día es Domingo\")\n",
        "else:\n",
        "    print(\"El número ingresado no es válido\")\n",
        "\n"
      ]
    },
    {
      "cell_type": "markdown",
      "metadata": {
        "id": "Rqgh9sLk81kI"
      },
      "source": [
        "## Ejercicio\n",
        "\n",
        "Realizar un programa que ordene 3 números de mayor a menor. Lea los numeros por teclado."
      ]
    },
    {
      "cell_type": "code",
      "execution_count": 8,
      "metadata": {
        "colab": {
          "base_uri": "https://localhost:8080/"
        },
        "id": "eCQDpOI381kJ",
        "outputId": "0872ce5a-224a-4dfc-fdee-239746fb6959"
      },
      "outputs": [
        {
          "output_type": "stream",
          "name": "stdout",
          "text": [
            "Ingrese el primer número: \n",
            "2\n",
            "Ingrese el segundo número: \n",
            "1\n",
            "Ingrese el tercer número: \n",
            "12\n",
            "El orden es: 12 , 2 , 1\n"
          ]
        }
      ],
      "source": [
        "# Definir variables (números enteros)\n",
        "n1, n2, n3 = 0, 0, 0\n",
        "\n",
        "# Leer variables\n",
        "print(\"Ingrese el primer número: \")\n",
        "n1 = int(input())\n",
        "print(\"Ingrese el segundo número: \")\n",
        "n2 = int(input())\n",
        "print(\"Ingrese el tercer número: \")\n",
        "n3 = int(input())\n",
        "\n",
        "# Lógica\n",
        "if (n1 > n2) and (n2 > n3):\n",
        "    print(\"El orden es:\", n1, \",\", n2, \",\", n3)\n",
        "elif (n1 > n3) and (n3 > n2):\n",
        "    print(\"El orden es:\", n1, \",\", n3, \",\", n2)\n",
        "elif (n2 > n1) and (n1 > n3):\n",
        "    print(\"El orden es:\", n2, \",\", n1, \",\", n3)\n",
        "elif (n2 > n3) and (n3 > n1):\n",
        "    print(\"El orden es:\", n2, \",\", n3, \",\", n1)\n",
        "elif (n3 > n2) and (n2 > n1):\n",
        "    print(\"El orden es:\", n3, \",\", n2, \",\", n1)\n",
        "else:\n",
        "    print(\"El orden es:\", n3, \",\", n1, \",\", n2)\n"
      ]
    },
    {
      "cell_type": "markdown",
      "metadata": {
        "id": "k4KW3cbX81kJ"
      },
      "source": [
        "## Ejercicio\n",
        "\n",
        "Realice un programa que pida al usuario una temperatura.\n",
        "- Si la temperatura es mayor a $25$, imprima `\"A la playa!\"`\n",
        "- Si la temperatura es mayor a $15$ y menor a $25$, imprima `\"A la montaña!\"`\n",
        "- Si la temperatura es menor a $5$, imprima `\"A esquiar!\"`\n",
        "\n",
        "En caso contario, imprimir `\"A descansar... zZz\"`"
      ]
    },
    {
      "cell_type": "code",
      "execution_count": 9,
      "metadata": {
        "colab": {
          "base_uri": "https://localhost:8080/"
        },
        "id": "VCuIsdjl81kJ",
        "outputId": "8133b29e-1ef7-412f-e695-26be88c7eb43"
      },
      "outputs": [
        {
          "output_type": "stream",
          "name": "stdout",
          "text": [
            "Ingrese la temperatura:\n",
            "22\n",
            "A la montaña!\n"
          ]
        }
      ],
      "source": [
        "# Variable para leer temperatura\n",
        "print(\"Ingrese la temperatura:\")\n",
        "temperatura = float(input())\n",
        "\n",
        "# Lógica\n",
        "if temperatura > 25:\n",
        "    # Si la temperatura es mayor que 25 ...\n",
        "    print(\"A la playa!\")\n",
        "elif temperatura > 15:\n",
        "    # Si es mayor que 15 y no es mayor que 25 ...\n",
        "    print(\"A la montaña!\")\n",
        "elif temperatura < 5:\n",
        "    # Si es menor que 5 y está nevando y no es mayor que 15 ni mayor que 25 ...\n",
        "    print(\"A esquiar!\")\n",
        "else:\n",
        "    # Si la temperatura no cumple ninguna de las condiciones anteriores ...\n",
        "    print(\"A descansar... zZz\")\n"
      ]
    },
    {
      "cell_type": "markdown",
      "metadata": {
        "id": "KLg9yAj681kJ"
      },
      "source": [
        "## Ejercicio\n",
        "\n",
        "Realice un programa que al introducir el Coeficiente Intelectual (IQ, por sus siglas en inglés) del usuario lo clasifique en Bajo, Medio, Normal o Alto."
      ]
    },
    {
      "cell_type": "code",
      "execution_count": 10,
      "metadata": {
        "colab": {
          "base_uri": "https://localhost:8080/"
        },
        "id": "SNZJMmN081kJ",
        "outputId": "11cb184b-8d21-45a0-bff5-53b64268caa8"
      },
      "outputs": [
        {
          "output_type": "stream",
          "name": "stdout",
          "text": [
            "Introduce el Coeficiente Intelectual: \n",
            "49\n",
            "IQ Bajo\n"
          ]
        }
      ],
      "source": [
        "# Variable para leer IQ\n",
        "print(\"Introduce el Coeficiente Intelectual: \")\n",
        "iq = int(input())\n",
        "\n",
        "# Lógica\n",
        "if iq <= 79:\n",
        "    print(\"IQ Bajo\")\n",
        "elif 79 < iq <= 89:\n",
        "    print(\"IQ Medio\")\n",
        "elif 90 <= iq < 110:\n",
        "    print(\"IQ Normal\")\n",
        "elif iq >= 110:\n",
        "    print(\"IQ Alto\")\n"
      ]
    },
    {
      "cell_type": "markdown",
      "metadata": {
        "id": "MSxKhbc981kK"
      },
      "source": [
        "## Ejercicio\n",
        "\n",
        "Realizar un programa que cuente los días que faltan para el fin de semana. Tenga en cuenta que:\n",
        "\n",
        "    Domingo = 1 (Fin de Semana)\n",
        "    Lunes = 2\n",
        "    Martes = 3\n",
        "    Miercoles = 4\n",
        "    Jueves = 5\n",
        "    Viernes = 6\n",
        "    Sabado = 7 (Fin de Semana)"
      ]
    },
    {
      "cell_type": "code",
      "execution_count": 11,
      "metadata": {
        "colab": {
          "base_uri": "https://localhost:8080/"
        },
        "id": "DolFWYzt81kK",
        "outputId": "c64f0b9a-ab1a-4985-c6b6-8b9ccda9ebdd"
      },
      "outputs": [
        {
          "output_type": "stream",
          "name": "stdout",
          "text": [
            "Ingrese el día de la semana:\n",
            "4\n",
            "Días restantes hasta el fin de semana: 2\n"
          ]
        }
      ],
      "source": [
        "# Variable para leer día de la semana\n",
        "print(\"Ingrese el día de la semana:\")\n",
        "dia = int(input())\n",
        "\n",
        "# Variable para contar los días que faltan\n",
        "diasHastaFinSemana = 0\n",
        "\n",
        "# Lógica\n",
        "if 1 < dia < 7:\n",
        "    if dia < 6:\n",
        "        diasHastaFinSemana += 1\n",
        "        if dia < 5:\n",
        "            diasHastaFinSemana += 1\n",
        "            if dia < 4:\n",
        "                diasHastaFinSemana += 1\n",
        "                if dia < 3:\n",
        "                    diasHastaFinSemana += 1\n",
        "    print(\"Días restantes hasta el fin de semana:\", diasHastaFinSemana)\n",
        "elif dia == 1 or dia == 7:\n",
        "    print(\"Fin de semana\")\n",
        "else:\n",
        "    print(\"La semana solo tiene 7 días\")\n"
      ]
    },
    {
      "cell_type": "markdown",
      "metadata": {
        "id": "slOByjuO81kK"
      },
      "source": [
        "## Ejercicio\n",
        "\n",
        "Realizar un programa que pida al usuario un tipo de vehiculo (Carro, Camion, Moto) y que imprima a que hora del dia puede circular dependiendo del tipo ingresado. Si el usuario ingresa un tipo de vehiculo distinto debe mostrar un mensaje indicando el error."
      ]
    },
    {
      "cell_type": "code",
      "execution_count": 12,
      "metadata": {
        "colab": {
          "base_uri": "https://localhost:8080/"
        },
        "id": "SExwxnNT81kK",
        "outputId": "40aa5d54-f697-4fa9-97d7-686300f11e66"
      },
      "outputs": [
        {
          "output_type": "stream",
          "name": "stdout",
          "text": [
            "En qué vehículo se desplaza (Carro/Camion/Moto):\n",
            "Carro\n",
            "Puedes pasar de 00:00 a 08:00\n"
          ]
        }
      ],
      "source": [
        "# Variable para leer el tipo de vehículo\n",
        "print(\"En qué vehículo se desplaza (Carro/Camion/Moto):\")\n",
        "tipoVehiculo = input()\n",
        "\n",
        "# Lógica utilizando solo condicionales\n",
        "if tipoVehiculo == \"Carro\":\n",
        "    print(\"Puedes pasar de 00:00 a 08:00\")\n",
        "elif tipoVehiculo == \"Camion\":\n",
        "    print(\"Puedes pasar de 08:00 a 16:00\")\n",
        "elif tipoVehiculo == \"Moto\":\n",
        "    print(\"Puedes pasar de 16:00 a 24:00\")\n",
        "else:\n",
        "    print(\"No se puede pasar con un \" + tipoVehiculo)\n"
      ]
    },
    {
      "cell_type": "markdown",
      "metadata": {
        "id": "U3ezNGV-81kK"
      },
      "source": [
        "## Ejercicio\n",
        "\n",
        "Realizar un programa que simule el juego 'Piedra, Papel o Tijera'. El usuario debe ingresar Piedra, Papel o Tijera, y competirá con la computadora.\n",
        "\n",
        "El usuario debe ingresar un numero entero (1 = Piedra, 2 = Papel, 3 = Tijera) e imprimir uno de los tres posibles resultados (ganar, perder o empatar)."
      ]
    },
    {
      "cell_type": "code",
      "execution_count": 13,
      "metadata": {
        "colab": {
          "base_uri": "https://localhost:8080/"
        },
        "id": "rLiFEw_O81kK",
        "outputId": "62855cc2-efe1-4824-b50a-6508eb527127"
      },
      "outputs": [
        {
          "output_type": "stream",
          "name": "stdout",
          "text": [
            "----------- Piedra, Papel o Tijera -----------\n",
            "La computadora ya escogió...\n",
            "Ingrese su opción [1=Piedra, 2=Papel, 3=Tijera]: \n",
            "2\n",
            "La computadora había escogido:\n",
            "Tijera\n",
            "La computadora gana!\n"
          ]
        }
      ],
      "source": [
        "import random\n",
        "\n",
        "print(\"----------- Piedra, Papel o Tijera -----------\")\n",
        "\n",
        "seleccionCompu = random.randint(1, 3)  # Variable de tipo entero (1, 2 o 3) al azar\n",
        "print(\"La computadora ya escogió...\")\n",
        "\n",
        "# Leer opción del usuario\n",
        "print(\"Ingrese su opción [1=Piedra, 2=Papel, 3=Tijera]: \")\n",
        "seleccionUsuario = int(input())\n",
        "\n",
        "# Lógica\n",
        "print(\"La computadora había escogido:\")\n",
        "if seleccionCompu == 1:\n",
        "    print(\"Piedra\")\n",
        "    if seleccionUsuario == 1:\n",
        "        print(\"Empate!\")\n",
        "    elif seleccionUsuario == 2:\n",
        "        print(\"Usted gana!\")\n",
        "    elif seleccionUsuario == 3:\n",
        "        print(\"La computadora gana!\")\n",
        "    else:\n",
        "        print(\"Su opción no es válida, vuelva a intentarlo\")\n",
        "elif seleccionCompu == 2:\n",
        "    print(\"Papel\")\n",
        "    if seleccionUsuario == 1:\n",
        "        print(\"La computadora gana!\")\n",
        "    elif seleccionUsuario == 2:\n",
        "        print(\"Empate!\")\n",
        "    elif seleccionUsuario == 3:\n",
        "        print(\"Usted gana!\")\n",
        "    else:\n",
        "        print(\"Su opción no es válida, vuelva a intentarlo\")\n",
        "elif seleccionCompu == 3:\n",
        "    print(\"Tijera\")\n",
        "    if seleccionUsuario == 1:\n",
        "        print(\"Usted gana!\")\n",
        "    elif seleccionUsuario == 2:\n",
        "        print(\"La computadora gana!\")\n",
        "    elif seleccionUsuario == 3:\n",
        "        print(\"Empate!\")\n",
        "    else:\n",
        "        print(\"Su opción no es válida, vuelva a intentarlo\")\n"
      ]
    },
    {
      "cell_type": "markdown",
      "metadata": {
        "id": "oLumoLFA81kL"
      },
      "source": [
        "## Ejercicio\n",
        "\n",
        "Hacer un programa que simule un cajero automático con un saldo inicial de $1000$ dólares, con el siguiente menú de opciones:\n",
        "\n",
        "    1. Ingresar dinero a la cuenta.\n",
        "    2. Retirar dinero de la cuenta.\n",
        "    3. Salir.\n",
        "\n",
        "Para cada opción debe imprimir un mensaje. Si el saldo a retirar es mayor al que tiene en la cuenta tambien debe indicarlo en pantalla."
      ]
    },
    {
      "cell_type": "code",
      "execution_count": 14,
      "metadata": {
        "colab": {
          "base_uri": "https://localhost:8080/"
        },
        "id": "b3I6GMTX81kL",
        "outputId": "8a902c99-6e28-424e-e377-659a0c0c48ea"
      },
      "outputs": [
        {
          "output_type": "stream",
          "name": "stdout",
          "text": [
            "1. Ingresar dinero a la cuenta\n",
            "2. Retirar dinero de la cuenta.\n",
            "3. Salir.\n",
            "Ingresar la opción: 1\n",
            "Ingrese la cantidad que desea ingresar en la cuenta: 457\n",
            "El saldo actual es: 1457.0\n"
          ]
        }
      ],
      "source": [
        "# Definir variables\n",
        "saldo_inicial = 1000\n",
        "opcion = 0\n",
        "ingreso = 0.0\n",
        "saldoActual = 0.0\n",
        "retiro = 0.0\n",
        "\n",
        "# Mostrar menú\n",
        "print(\"1. Ingresar dinero a la cuenta\")\n",
        "print(\"2. Retirar dinero de la cuenta.\")\n",
        "print(\"3. Salir.\")\n",
        "\n",
        "# Variable de tipo input para leer otras variables\n",
        "opcion = int(input(\"Ingresar la opción: \"))\n",
        "\n",
        "# Lógica\n",
        "if opcion == 1:\n",
        "    ingreso = float(input(\"Ingrese la cantidad que desea ingresar en la cuenta: \"))\n",
        "    saldoActual = saldo_inicial + ingreso\n",
        "    print(\"El saldo actual es:\", saldoActual)\n",
        "elif opcion == 2:\n",
        "    retiro = float(input(\"Ingrese la cantidad que desea retirar: \"))\n",
        "    if retiro <= saldo_inicial:\n",
        "        saldoActual = saldo_inicial - retiro\n",
        "        print(\"Dinero en la cuenta:\", saldoActual)\n",
        "    else:\n",
        "        print(\"No cuenta con el saldo suficiente\")\n",
        "elif opcion == 3:\n",
        "    print(\"Hasta luego...\")\n",
        "else:\n",
        "    print(\"Opción no válida, intente de nuevo.\")\n"
      ]
    },
    {
      "cell_type": "markdown",
      "metadata": {
        "id": "TVUdvNvn81kL"
      },
      "source": [
        "\n",
        "## Hazlo tú mismo ✏️\n",
        "\n",
        "#### Ejercicio 1:\n",
        "\n",
        "Realizar un programa que determine si un estudiante ha aprobado o no un examen. Para aprobar el examen, el estudiante debe obtener una calificación de al menos $60$ en el examen escrito y una calificación de al menos $80$ en el examen oral. Además, si la calificación total del examen (promedio de las calificaciones) es superior o igual a $90$, el estudiante recibe una mención honorífica.\n",
        "\n",
        "- **Nota:** Debe ingresar como minimo 4 estudiantes con su respectivas notas.\n",
        "\n",
        "\n",
        "\n",
        "#### Ejercicio 2:\n",
        "\n",
        "Tienes una tienda de ropa y deseas calcular el precio final de una compra de un cliente. La tienda ofrece un descuento del $10\\%$ en todas las compras que superen los $\\$100$, y un descuento adicional del $5\\%$ si el cliente tiene una tarjeta de membresía de la tienda. Además, la tienda cobra una tarifa de envío de $\\$5$ para todas las compras que se envían por correo. Si el cliente gasta más de $\\$200$, la tienda cubre el costo de envío.\n",
        "\n",
        "\n",
        "\n",
        "#### Ejercicio 3:\n",
        "\n",
        "Debes crear un programa de gestión de personal que almacena la información de los empleados en una base de datos. Cada empleado tiene un nombre, una edad, un salario y un cargo. La empresa tiene tres cargos diferentes: `\"gerente\"`, `\"supervisor\"` y `\"empleado\"`. El programa debe imprimir una carta para cada empleado, que depende de su cargo y su salario. Si el salario es mayor que $\\$50000$, la carta debe ser de felicitación. Si el salario es menor o igual a $\\$50000$, la carta debe ser de agradecimiento. La carta también debe mencionar el cargo del empleado.\n",
        "\n",
        "- **Nota:** Debe ingresar como minimo 5 empleados con sus respectivos datos.\n",
        "\n"
      ]
    },
    {
      "cell_type": "code",
      "source": [],
      "metadata": {
        "id": "yav2fZfy9qB_"
      },
      "execution_count": null,
      "outputs": []
    }
  ],
  "metadata": {
    "celltoolbar": "Tags",
    "colab": {
      "provenance": [],
      "toc_visible": true
    },
    "kernelspec": {
      "display_name": "Python 3",
      "name": "python3"
    },
    "language_info": {
      "codemirror_mode": {
        "name": "ipython",
        "version": 3
      },
      "file_extension": ".py",
      "mimetype": "text/x-python",
      "name": "python",
      "nbconvert_exporter": "python",
      "pygments_lexer": "ipython3",
      "version": "3.8.12"
    },
    "toc": {
      "toc_cell": false,
      "toc_number_sections": true,
      "toc_threshold": 6,
      "toc_window_display": false
    }
  },
  "nbformat": 4,
  "nbformat_minor": 0
}