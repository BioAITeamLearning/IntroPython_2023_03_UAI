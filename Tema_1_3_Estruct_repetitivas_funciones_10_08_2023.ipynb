{
  "cells": [
    {
      "cell_type": "markdown",
      "metadata": {
        "id": "FV4Dbuibl0kQ"
      },
      "source": [
        "# Estructuras repetitivas y Funciones\n",
        "\n",
        "Los programas utilizados hasta este momento han examinado conceptos de programación, tales como entradas, salidas, asignaciones, expresiones y operaciones, sentencias secuenciales y de selección. Sin embargo, muchos problemas requieren de características de repetición, en las que algunos cálculos o secuencia de instrucciones se repiten una y otra vez, utilizando diferentes conjuntos de datos.\n"
      ]
    },
    {
      "cell_type": "markdown",
      "metadata": {
        "id": "JRB7tlpw95-n"
      },
      "source": [
        "## Introducción a interación y bucle\n",
        "\n",
        "Supongamos que se desea sumar una lista de números escritos desde teclado, por ejemplo, calificaciones de los alumnos de una clase.\n",
        "\n",
        "El medio conocido hasta ahora es leer los números y añadir sus valores a una variable SUMA que contenga las sucesivas sumas parciales. El valor de SUMA se incrementa cada vez que se lea un nuevo número."
      ]
    },
    {
      "cell_type": "code",
      "execution_count": 1,
      "metadata": {
        "colab": {
          "base_uri": "https://localhost:8080/"
        },
        "id": "SkdZV1QT95-n",
        "outputId": "9240cb4d-329f-4011-b8e5-78cd93372bcf"
      },
      "outputs": [
        {
          "output_type": "stream",
          "name": "stdout",
          "text": [
            "Ingrese un número: 6\n",
            "Ingrese otro número: 3\n",
            "Ingrese un tercer número: 2\n",
            "Ingrese un cuarto número: 5\n",
            "La suma de los números ingresados es: 16\n"
          ]
        }
      ],
      "source": [
        "# Definir variables\n",
        "SUMA = 0\n",
        "\n",
        "# Leer e ingresar números\n",
        "numero = int(input(\"Ingrese un número: \"))\n",
        "SUMA = SUMA + numero\n",
        "\n",
        "numero = int(input(\"Ingrese otro número: \"))\n",
        "SUMA = SUMA + numero\n",
        "\n",
        "numero = int(input(\"Ingrese un tercer número: \"))\n",
        "SUMA = SUMA + numero\n",
        "\n",
        "numero = int(input(\"Ingrese un cuarto número: \"))\n",
        "SUMA = SUMA + numero\n",
        "\n",
        "# Mostrar la suma de los números ingresados\n",
        "print(\"La suma de los números ingresados es:\", SUMA)\n"
      ]
    },
    {
      "cell_type": "markdown",
      "metadata": {
        "id": "LxMv_0Bq95-o"
      },
      "source": [
        "El algoritmo incrementa el valor de SUMA cada vez que se lee una variable numero.\n",
        "\n",
        "En este algoritmo se repiten muchas veces las acciones:\n",
        "\n",
        "```python\n",
        "numero = int(input(\"Ingrese un cuarto número: \"))\n",
        "SUMA = SUMA + numero\n",
        "\n",
        "```\n",
        "\n",
        "---\n",
        "\n",
        "Las estructuras que repiten una secuencia de instrucciones un número determinado de veces se denominan bucles y se denomina iteración al hecho de repetir la ejecución de una secuencia de acciones.\n"
      ]
    },
    {
      "cell_type": "markdown",
      "metadata": {
        "id": "YwqQzkDKUB3b"
      },
      "source": [
        "# Estructuras repetitivas"
      ]
    },
    {
      "cell_type": "code",
      "execution_count": null,
      "metadata": {
        "colab": {
          "base_uri": "https://localhost:8080/"
        },
        "id": "Zwu-4GblUB3b",
        "outputId": "a13985e2-c533-4d64-af8c-e783070c9556"
      },
      "outputs": [
        {
          "name": "stdout",
          "output_type": "stream",
          "text": [
            "Ciclo for en un rango de datos: \n",
            "2\n",
            "3\n",
            "4\n",
            "5\n",
            "6\n",
            "7\n",
            "8\n",
            "9\n",
            "Ciclo for en una coleccion de datos:\n",
            "El elemento es=  3\n",
            "El elemento es=  4\n",
            "El elemento es=  5\n",
            "El elemento es=  7\n",
            "El elemento es=  8\n",
            "El elemento es=  Hola\n",
            "El elemento de la posicion 0 es: 3\n",
            "El elemento de la posicion 1 es: 4\n",
            "El elemento de la posicion 2 es: 5\n",
            "El elemento de la posicion 3 es: 7\n",
            "El elemento de la posicion 4 es: 8\n",
            "El elemento de la posicion 5 es: Hola\n"
          ]
        }
      ],
      "source": [
        "#ciclo for\n",
        "print(\"Ciclo for en un rango de datos: \")\n",
        "for i in range(2,10):\n",
        "    print(i)\n",
        "\n",
        "print('Ciclo for en una coleccion de datos:')\n",
        "x=[3,4,5,7,8,\"Hola\"]\n",
        "for i in x:\n",
        "    print(\"El elemento es= \",i)\n",
        "for i in range(len(x)):\n",
        "    print(\"El elemento de la posicion\",i,'es:',x[i])"
      ]
    },
    {
      "cell_type": "code",
      "execution_count": null,
      "metadata": {
        "colab": {
          "base_uri": "https://localhost:8080/"
        },
        "id": "U39BrrCCUB3c",
        "outputId": "1c8f417d-856f-4a0f-db3e-88e54fab6691"
      },
      "outputs": [
        {
          "name": "stdout",
          "output_type": "stream",
          "text": [
            "Ciclo for en un diccionario:\n",
            "Fresa es de color roja\n",
            "Limon es de color verde\n",
            "Papaya es de color naranja\n",
            "Manzana es de color amarilla\n",
            "Guayaba es de color rosa\n",
            "Fresa es de color roja\n",
            "Limon es de color verde\n",
            "Papaya es de color naranja\n",
            "Manzana es de color amarilla\n",
            "Guayaba es de color rosa\n"
          ]
        }
      ],
      "source": [
        "print('Ciclo for en un diccionario:')\n",
        "frutas = {'Fresa':'roja', 'Limon':'verde', 'Papaya':'naranja', 'Manzana':'amarilla', 'Guayaba':'rosa'}\n",
        "for nombre, color in frutas.items():\n",
        "    print (nombre, \"es de color\", color)\n",
        "for llave in frutas:\n",
        "    print(llave, 'es de color', frutas[llave])"
      ]
    },
    {
      "cell_type": "code",
      "execution_count": null,
      "metadata": {
        "colab": {
          "base_uri": "https://localhost:8080/"
        },
        "id": "7X8LUod8UB3e",
        "outputId": "f426565f-7491-42fa-840d-bcd84dbd9a46"
      },
      "outputs": [
        {
          "data": {
            "text/plain": [
              "{'Fresa': 'roja',\n",
              " 'Limon': 'verde',\n",
              " 'Papaya': 'naranja',\n",
              " 'Manzana': 'amarilla',\n",
              " 'Guayaba': 'rosa'}"
            ]
          },
          "execution_count": 79,
          "metadata": {},
          "output_type": "execute_result"
        }
      ],
      "source": [
        "frutas"
      ]
    },
    {
      "cell_type": "code",
      "execution_count": null,
      "metadata": {
        "colab": {
          "base_uri": "https://localhost:8080/"
        },
        "id": "6x6Dvgz7UB3f",
        "outputId": "2223e624-ec95-4443-fe47-0ef78ceb9445"
      },
      "outputs": [
        {
          "data": {
            "text/plain": [
              "{'Fresa': 'roja',\n",
              " 'Limon': 'verde',\n",
              " 'Papaya': 'naranja',\n",
              " 'Manzana': 'amarilla',\n",
              " 'Guayaba': 'rosa'}"
            ]
          },
          "execution_count": 80,
          "metadata": {},
          "output_type": "execute_result"
        }
      ],
      "source": [
        "frutas = {'Fresa':'roja', 'Limon':'verde', 'Papaya':'naranja', 'Manzana':'amarilla', 'Guayaba':'rosa'}\n",
        "frutas"
      ]
    },
    {
      "cell_type": "code",
      "execution_count": null,
      "metadata": {
        "colab": {
          "base_uri": "https://localhost:8080/"
        },
        "id": "V1TWkc7aUB3g",
        "outputId": "e1dc83df-d67c-4689-9066-1a6bb3c0da02"
      },
      "outputs": [
        {
          "data": {
            "text/plain": [
              "5"
            ]
          },
          "execution_count": 81,
          "metadata": {},
          "output_type": "execute_result"
        }
      ],
      "source": [
        "len(frutas)"
      ]
    },
    {
      "cell_type": "code",
      "execution_count": null,
      "metadata": {
        "colab": {
          "base_uri": "https://localhost:8080/",
          "height": 35
        },
        "id": "ebpdNCAkUB3h",
        "outputId": "ec377f16-ca30-481a-81da-d47a1f91b083"
      },
      "outputs": [
        {
          "data": {
            "application/vnd.google.colaboratory.intrinsic+json": {
              "type": "string"
            },
            "text/plain": [
              "'roja'"
            ]
          },
          "execution_count": 82,
          "metadata": {},
          "output_type": "execute_result"
        }
      ],
      "source": [
        "frutas.get('Fresa')"
      ]
    },
    {
      "cell_type": "code",
      "execution_count": null,
      "metadata": {
        "colab": {
          "base_uri": "https://localhost:8080/"
        },
        "id": "w-AvD18AUB3i",
        "outputId": "7d1c82e8-afd3-473b-dfcd-f8b0fd54f5ca"
      },
      "outputs": [
        {
          "name": "stdout",
          "output_type": "stream",
          "text": [
            "0\n",
            "1\n",
            "2\n",
            "3\n",
            "4\n",
            "5\n",
            "6\n",
            "7\n",
            "8\n",
            "9\n"
          ]
        }
      ],
      "source": [
        "for i in range(10):\n",
        "    print(i)"
      ]
    },
    {
      "cell_type": "code",
      "execution_count": null,
      "metadata": {
        "colab": {
          "base_uri": "https://localhost:8080/"
        },
        "id": "rnII30YuUB3l",
        "outputId": "d3e607d3-9579-446e-cb9b-c295a7b33046"
      },
      "outputs": [
        {
          "name": "stdout",
          "output_type": "stream",
          "text": [
            "0 --> a\n",
            "1 --> b\n",
            "2 --> c\n",
            "3 --> d\n"
          ]
        }
      ],
      "source": [
        "v=['a','b','c','d']\n",
        "\n",
        "for i in range(len(v)):\n",
        "    print(i,\"-->\",v[i])\n"
      ]
    },
    {
      "cell_type": "code",
      "execution_count": null,
      "metadata": {
        "colab": {
          "base_uri": "https://localhost:8080/"
        },
        "id": "wE0d5jPNxz9j",
        "outputId": "223e6973-a782-4575-f843-c9b4ecbea28a"
      },
      "outputs": [
        {
          "name": "stdout",
          "output_type": "stream",
          "text": [
            "a\n",
            "b\n",
            "c\n",
            "d\n"
          ]
        }
      ],
      "source": [
        "for i in v:\n",
        "    print(i)"
      ]
    },
    {
      "cell_type": "code",
      "execution_count": null,
      "metadata": {
        "colab": {
          "base_uri": "https://localhost:8080/"
        },
        "id": "T0cml0ioUB3m",
        "outputId": "d72e31a6-8040-4439-9bf4-3aac04029907"
      },
      "outputs": [
        {
          "name": "stdout",
          "output_type": "stream",
          "text": [
            "0\n",
            "2\n",
            "4\n",
            "6\n",
            "8\n"
          ]
        }
      ],
      "source": [
        "#ciclo while\n",
        "cont=0\n",
        "while cont<10:\n",
        "    print(cont)\n",
        "    cont+=2"
      ]
    },
    {
      "cell_type": "code",
      "execution_count": null,
      "metadata": {
        "id": "gyc4QfMln2Nq"
      },
      "outputs": [],
      "source": [
        "v=['a','b','c','d']"
      ]
    },
    {
      "cell_type": "code",
      "execution_count": null,
      "metadata": {
        "colab": {
          "base_uri": "https://localhost:8080/"
        },
        "id": "y6Gy6YtHn8nq",
        "outputId": "3ec47163-063f-4572-8dae-5b63b747e4a2"
      },
      "outputs": [
        {
          "name": "stdout",
          "output_type": "stream",
          "text": [
            "0 a\n",
            "1 b\n",
            "2 c\n",
            "3 d\n"
          ]
        }
      ],
      "source": [
        "for i in range(len(v)):\n",
        "  print(i,v[i])"
      ]
    },
    {
      "cell_type": "code",
      "execution_count": null,
      "metadata": {
        "colab": {
          "base_uri": "https://localhost:8080/"
        },
        "id": "yzmL6MeHoFlV",
        "outputId": "e934cc0c-ca8d-4206-fb80-49b913c98791"
      },
      "outputs": [
        {
          "name": "stdout",
          "output_type": "stream",
          "text": [
            "a\n",
            "b\n",
            "c\n",
            "d\n"
          ]
        }
      ],
      "source": [
        "for i in v:\n",
        "  print(i)"
      ]
    },
    {
      "cell_type": "markdown",
      "metadata": {
        "id": "uTpLF5FW95-t"
      },
      "source": [
        "<a name=\"1\"></a>\n",
        "## Ejemplo 1"
      ]
    },
    {
      "cell_type": "markdown",
      "metadata": {
        "id": "zj6nRyCe95-t"
      },
      "source": [
        "Realiza un algoritmo que cuente las vocales de un `string`"
      ]
    },
    {
      "cell_type": "code",
      "execution_count": null,
      "metadata": {
        "id": "kUpwLDpv95-t",
        "outputId": "de5eafed-b973-43c5-c5b3-5490e3f8ec3c"
      },
      "outputs": [
        {
          "name": "stdout",
          "output_type": "stream",
          "text": [
            "Hay 8 vocales\n"
          ]
        }
      ],
      "source": [
        "frase = \"Anita lava la tina\"\n",
        "k = 0\n",
        "\n",
        "for letra in frase.lower():\n",
        "    if letra in (\"a\",\"e\",\"i\",\"o\",\"u\"):\n",
        "        k += 1\n",
        "\n",
        "print(f\"Hay {k} vocales\")"
      ]
    },
    {
      "cell_type": "markdown",
      "metadata": {
        "id": "MBgTyPd-95-t"
      },
      "source": [
        "<a name=\"2\"></a>\n",
        "## Ejemplo 2"
      ]
    },
    {
      "cell_type": "markdown",
      "metadata": {
        "id": "ayxUlzfe95-t"
      },
      "source": [
        "Realiza un programa que haga un triangulo de caracteres"
      ]
    },
    {
      "cell_type": "code",
      "execution_count": null,
      "metadata": {
        "id": "mgTEnR5495-t",
        "outputId": "0e4d379a-a3c7-49cc-b70e-a76cd14e3ae0"
      },
      "outputs": [
        {
          "name": "stdout",
          "output_type": "stream",
          "text": [
            "aaa\n",
            "hola hola hola hola hola \n"
          ]
        }
      ],
      "source": [
        "# Pista. En Python es posible multiplicar strings:\n",
        "\n",
        "print('a'*3)\n",
        "print(\"hola \"*5)"
      ]
    },
    {
      "cell_type": "code",
      "execution_count": null,
      "metadata": {
        "id": "yRkigFJl95-t",
        "outputId": "ffd44c53-0f28-4641-9126-1d719fac9add"
      },
      "outputs": [
        {
          "name": "stdout",
          "output_type": "stream",
          "text": [
            "*\n",
            "**\n",
            "***\n",
            "****\n",
            "*****\n",
            "******\n",
            "*******\n",
            "********\n",
            "*********\n",
            "**********\n"
          ]
        }
      ],
      "source": [
        "n = 10\n",
        "for k in range(1,n+1):\n",
        "    print(\"*\"*k)"
      ]
    },
    {
      "cell_type": "markdown",
      "metadata": {
        "id": "djeaCiCI95-t"
      },
      "source": [
        "<a name=\"3\"></a>\n",
        "## Ejemplo 3"
      ]
    },
    {
      "cell_type": "markdown",
      "metadata": {
        "id": "4mbTdT0d95-t"
      },
      "source": [
        "Realiza un programa que genere una tabla de multiplicación"
      ]
    },
    {
      "cell_type": "code",
      "execution_count": null,
      "metadata": {
        "id": "c4xWGt9F95-u",
        "outputId": "dcab447c-1cf6-4cc2-f600-dd96eecbe59e"
      },
      "outputs": [
        {
          "name": "stdout",
          "output_type": "stream",
          "text": [
            "2 x 1 = 2\n",
            "2 x 2 = 4\n",
            "2 x 3 = 6\n",
            "2 x 4 = 8\n",
            "2 x 5 = 10\n",
            "2 x 6 = 12\n",
            "2 x 7 = 14\n",
            "2 x 8 = 16\n",
            "2 x 9 = 18\n",
            "2 x 10 = 20\n"
          ]
        }
      ],
      "source": [
        "n = 2\n",
        "for k in range(1,11):\n",
        "    print(f\"{n} x {k} = {n*k}\")"
      ]
    },
    {
      "cell_type": "markdown",
      "metadata": {
        "id": "LF4m7C5C95-u"
      },
      "source": [
        "Tambien lo podemos hacer personalizable"
      ]
    },
    {
      "cell_type": "code",
      "execution_count": null,
      "metadata": {
        "id": "eNv8qdF095-u",
        "outputId": "b42d79c9-cfb4-49ba-d885-1a4ac71a1615"
      },
      "outputs": [
        {
          "name": "stdout",
          "output_type": "stream",
          "text": [
            "Ingresa el número del que quieres su tabla: 5\n",
            "5 x 1 = 5\n",
            "5 x 2 = 10\n",
            "5 x 3 = 15\n",
            "5 x 4 = 20\n",
            "5 x 5 = 25\n",
            "5 x 6 = 30\n",
            "5 x 7 = 35\n",
            "5 x 8 = 40\n",
            "5 x 9 = 45\n",
            "5 x 10 = 50\n"
          ]
        }
      ],
      "source": [
        "b= int(input(\"Ingresa el número del que quieres su tabla: \"))\n",
        "for i in range(1,10+1):\n",
        "  result= int(b*i)\n",
        "  print(b,\"x\", i, \"=\", str(result))"
      ]
    },
    {
      "cell_type": "markdown",
      "metadata": {
        "id": "6dK4fto395-u"
      },
      "source": [
        "<a name=\"4\"></a>\n",
        "## Ejemplo 4"
      ]
    },
    {
      "cell_type": "markdown",
      "metadata": {
        "id": "Soj6nMjB95-u"
      },
      "source": [
        "Realizar un programa para calcular el factorial de un número n"
      ]
    },
    {
      "cell_type": "code",
      "execution_count": null,
      "metadata": {
        "id": "8J0FGp4v95-u",
        "outputId": "c97bd93b-24d1-4c27-c229-fc49066cdead"
      },
      "outputs": [
        {
          "name": "stdout",
          "output_type": "stream",
          "text": [
            "Ingrese un número entero: 6\n",
            "El factorial de n con parámetros 1, n+1, 1 es:  720\n"
          ]
        }
      ],
      "source": [
        "n = int(input(\"Ingrese un número entero: \"))\n",
        "factorial = 1\n",
        "\n",
        "for i in range(1, n+1, 1):\n",
        "    factorial = factorial * i\n",
        "print(\"El factorial de n con parámetros 1, n+1, 1 es: \", factorial)"
      ]
    },
    {
      "cell_type": "markdown",
      "metadata": {
        "id": "WyaXr8Pq95-u"
      },
      "source": [
        "<a name=\"5\"></a>\n",
        "## Ejemplo 5"
      ]
    },
    {
      "cell_type": "markdown",
      "metadata": {
        "id": "CYpYJ0jt95-u"
      },
      "source": [
        "Realiza un programa para generar secuencias con ciclo anidados"
      ]
    },
    {
      "cell_type": "code",
      "execution_count": null,
      "metadata": {
        "id": "lj-TWCGV95-v",
        "outputId": "8ab17853-4249-4cd6-8e79-1024b68339f4"
      },
      "outputs": [
        {
          "name": "stdout",
          "output_type": "stream",
          "text": [
            "Ingrese un número entero: 6\n",
            "1\n",
            "22\n",
            "333\n",
            "4444\n",
            "55555\n",
            "666666\n",
            "\n",
            "1\n",
            "12\n",
            "123\n",
            "1234\n",
            "12345\n",
            "123456\n",
            "\n"
          ]
        }
      ],
      "source": [
        "n = int(input(\"Ingrese un número entero: \"))\n",
        "\n",
        "for i in range(1, n+1):\n",
        "    for j in range (1, i+1):\n",
        "        print(i, end=\"\")\n",
        "    print(\"\")\n",
        "print(\"\")\n",
        "\n",
        "for i in range(1, n+1):\n",
        "    for j in range (1, i+1):\n",
        "        print(j, end=\"\")\n",
        "    print(\"\")\n",
        "print(\"\")"
      ]
    },
    {
      "cell_type": "markdown",
      "metadata": {
        "id": "E1hBg91G95-v"
      },
      "source": [
        "<a name=\"6\"></a>\n",
        "## Ejemplo 6"
      ]
    },
    {
      "cell_type": "markdown",
      "metadata": {
        "id": "CJKPtUvs95-v"
      },
      "source": [
        "Realiza un programa para generar secuencias con ciclo anidados de forma inversa"
      ]
    },
    {
      "cell_type": "code",
      "execution_count": null,
      "metadata": {
        "id": "5lZ2tNOd95-v",
        "outputId": "f8f7cc76-7bed-4051-dd27-170c632a6fa8"
      },
      "outputs": [
        {
          "name": "stdout",
          "output_type": "stream",
          "text": [
            "Ingrese un número entero: 8\n",
            "88888888\n",
            "7777777\n",
            "666666\n",
            "55555\n",
            "4444\n",
            "333\n",
            "22\n",
            "1\n",
            "\n",
            "87654321\n",
            "7654321\n",
            "654321\n",
            "54321\n",
            "4321\n",
            "321\n",
            "21\n",
            "1\n",
            "\n"
          ]
        }
      ],
      "source": [
        "n = int(input(\"Ingrese un número entero: \"))\n",
        "\n",
        "for i in range(n, 0, -1):\n",
        "    for j in range (1, i+1):\n",
        "        print(i, end=\"\")\n",
        "    print(\"\")\n",
        "print(\"\")\n",
        "\n",
        "for i in range(n, 0, -1):\n",
        "    for j in range (i, 0, -1):\n",
        "        print(j, end=\"\")\n",
        "    print(\"\")\n",
        "print(\"\")"
      ]
    },
    {
      "cell_type": "code",
      "execution_count": null,
      "metadata": {
        "id": "N0tQirIf95-w"
      },
      "outputs": [],
      "source": []
    },
    {
      "cell_type": "markdown",
      "metadata": {
        "id": "cDvhM0cVUB3n"
      },
      "source": [
        "## Ejercicio"
      ]
    },
    {
      "cell_type": "markdown",
      "metadata": {
        "id": "up221wehUB3o"
      },
      "source": [
        "1. Realice un programa que lea las notas de un estudiante, despues devolver el promedio, la mejor y la peor nota."
      ]
    },
    {
      "cell_type": "code",
      "execution_count": null,
      "metadata": {
        "id": "_jMKGr_tqpEx"
      },
      "outputs": [],
      "source": [
        "# Escribe aquí tu código\n"
      ]
    },
    {
      "cell_type": "markdown",
      "metadata": {
        "id": "ccpE2G3VUB4H"
      },
      "source": [
        "# Funciones"
      ]
    },
    {
      "cell_type": "markdown",
      "metadata": {
        "id": "ZEH4KdMwUB4H"
      },
      "source": [
        "Python es un lenguaje **indentado**, no usa corchetes para delimitar el alcance de las estructuras de programación sino que se fija en los **cambios de indentación**.\n",
        "\n",
        "No se declara el tipo de los argumentos de las funciones. La semática de la implementación ha de estar preparada para funcionar con los tipos de datos que quieres."
      ]
    },
    {
      "cell_type": "code",
      "execution_count": null,
      "metadata": {
        "id": "hwKKPlvYUB4H",
        "scrolled": true
      },
      "outputs": [],
      "source": [
        "import numpy as np\n",
        "def funcion_1(a,b):\n",
        "    r = a**2\n",
        "    return r+b\n",
        "\n",
        "def greatest(a,b):\n",
        "    if a>b:\n",
        "        return a\n",
        "    else:\n",
        "        return b"
      ]
    },
    {
      "cell_type": "code",
      "execution_count": null,
      "metadata": {
        "colab": {
          "base_uri": "https://localhost:8080/"
        },
        "id": "b7Y0aS8YPW3G",
        "outputId": "78763cdd-8f9f-4754-c94b-378b0b9e53cc"
      },
      "outputs": [
        {
          "data": {
            "text/plain": [
              "110.16000000000001"
            ]
          },
          "execution_count": 92,
          "metadata": {},
          "output_type": "execute_result"
        }
      ],
      "source": [
        "funcion_1 (10.4,2)"
      ]
    },
    {
      "cell_type": "code",
      "execution_count": null,
      "metadata": {
        "colab": {
          "base_uri": "https://localhost:8080/"
        },
        "id": "5kA1jSqvPk9U",
        "outputId": "7ef22a48-0246-4008-bb61-789be89161c9"
      },
      "outputs": [
        {
          "data": {
            "text/plain": [
              "array([110.16, 112.16])"
            ]
          },
          "execution_count": 93,
          "metadata": {},
          "output_type": "execute_result"
        }
      ],
      "source": [
        "funcion_1 (10.4, np.array([2,4]))"
      ]
    },
    {
      "cell_type": "code",
      "execution_count": null,
      "metadata": {
        "colab": {
          "base_uri": "https://localhost:8080/"
        },
        "id": "ygDSml85PW9Z",
        "outputId": "6c18864e-eb61-4911-adba-b0a02713d15a"
      },
      "outputs": [
        {
          "data": {
            "text/plain": [
              "array([ 4, 27])"
            ]
          },
          "execution_count": 94,
          "metadata": {},
          "output_type": "execute_result"
        }
      ],
      "source": [
        "funcion_1(np.array([1,5]),np.array([3,2]))"
      ]
    },
    {
      "cell_type": "code",
      "execution_count": null,
      "metadata": {
        "colab": {
          "base_uri": "https://localhost:8080/"
        },
        "id": "PXi5wnxBPXCK",
        "outputId": "0244be44-b6b5-4809-d45e-a7e27901d08f"
      },
      "outputs": [
        {
          "data": {
            "text/plain": [
              "array([[14, 22],\n",
              "       [ 1,  1]])"
            ]
          },
          "execution_count": 95,
          "metadata": {},
          "output_type": "execute_result"
        }
      ],
      "source": [
        "m1 = np.array([[3,4],[1,1]])\n",
        "m2 = np.array([[5,6],[0,0]])\n",
        "\n",
        "funcion_1 (m1,m2)"
      ]
    },
    {
      "cell_type": "code",
      "execution_count": null,
      "metadata": {
        "colab": {
          "base_uri": "https://localhost:8080/"
        },
        "id": "G4fIm9dwPee_",
        "outputId": "ed543410-6d68-4063-8c29-ab8f7db0a621"
      },
      "outputs": [
        {
          "data": {
            "text/plain": [
              "10"
            ]
          },
          "execution_count": 96,
          "metadata": {},
          "output_type": "execute_result"
        }
      ],
      "source": [
        "greatest(10,2)"
      ]
    },
    {
      "cell_type": "markdown",
      "metadata": {
        "id": "inKB12zpUB4L"
      },
      "source": [
        "Podemos definir valores por defecto para los argumentos de las funciones y llamarlas usando explícitamente el nombre de los argumentos. Además, las funciones pueden devolver varios valores."
      ]
    },
    {
      "cell_type": "code",
      "execution_count": null,
      "metadata": {
        "id": "VX4Cz1szUB4M"
      },
      "outputs": [],
      "source": [
        "def f_power(x, p=2):\n",
        "    return x**p"
      ]
    },
    {
      "cell_type": "code",
      "execution_count": null,
      "metadata": {
        "colab": {
          "base_uri": "https://localhost:8080/"
        },
        "id": "5kYk6NRxQr_i",
        "outputId": "5a1de0d7-f424-4920-b5af-b096e4db66fa"
      },
      "outputs": [
        {
          "data": {
            "text/plain": [
              "9"
            ]
          },
          "execution_count": 98,
          "metadata": {},
          "output_type": "execute_result"
        }
      ],
      "source": [
        "f_power(x=3)"
      ]
    },
    {
      "cell_type": "code",
      "execution_count": null,
      "metadata": {
        "colab": {
          "base_uri": "https://localhost:8080/"
        },
        "id": "_E2KCywqQsIo",
        "outputId": "1cc0ab56-1589-4ab2-8809-1ebfcb5ee4ed"
      },
      "outputs": [
        {
          "data": {
            "text/plain": [
              "81"
            ]
          },
          "execution_count": 99,
          "metadata": {},
          "output_type": "execute_result"
        }
      ],
      "source": [
        "f_power(p=4, x=3)"
      ]
    },
    {
      "cell_type": "code",
      "execution_count": null,
      "metadata": {
        "id": "wVkyl6EkUB4O"
      },
      "outputs": [],
      "source": [
        "def f_power(x, p=2):\n",
        "    return x**p, x*p"
      ]
    },
    {
      "cell_type": "code",
      "execution_count": null,
      "metadata": {
        "colab": {
          "base_uri": "https://localhost:8080/"
        },
        "id": "pCgEPvi-Q-BS",
        "outputId": "76528293-0518-4ad4-fc54-a65c5e08f203"
      },
      "outputs": [
        {
          "name": "stdout",
          "output_type": "stream",
          "text": [
            "81 12 \n",
            "\n"
          ]
        }
      ],
      "source": [
        "r = f_power(p=4, x=3)\n",
        "print(r[0],r[1],\"\\n\")"
      ]
    },
    {
      "cell_type": "code",
      "execution_count": null,
      "metadata": {
        "colab": {
          "base_uri": "https://localhost:8080/"
        },
        "id": "GW4Qh_vnQ_s2",
        "outputId": "b7656318-8410-4dd6-8904-f628589ca877"
      },
      "outputs": [
        {
          "name": "stdout",
          "output_type": "stream",
          "text": [
            "81\n",
            "12 \n",
            "\n"
          ]
        }
      ],
      "source": [
        "r1, r2 = f_power(p=4, x=3)\n",
        "print(r1)\n",
        "print(r2,\"\\n\")"
      ]
    },
    {
      "cell_type": "code",
      "execution_count": null,
      "metadata": {
        "colab": {
          "base_uri": "https://localhost:8080/"
        },
        "id": "BRIeS3Q2RAxf",
        "outputId": "08185d7b-3fe6-4d47-ea41-8da1f0a62d43"
      },
      "outputs": [
        {
          "name": "stdout",
          "output_type": "stream",
          "text": [
            "10\n",
            "[10  4 -3]\n"
          ]
        }
      ],
      "source": [
        "a,b = 10, np.array([10,4,-3])\n",
        "print(a)\n",
        "print(b)"
      ]
    },
    {
      "cell_type": "code",
      "execution_count": null,
      "metadata": {
        "id": "HtHsrXySUB4Q"
      },
      "outputs": [],
      "source": [
        "def f_power(x, p=2):\n",
        "    return x**p\n",
        "\n",
        "def f_powers(x, p1=2, p2=3):\n",
        "    return x**p1, x**p2"
      ]
    },
    {
      "cell_type": "code",
      "execution_count": null,
      "metadata": {
        "colab": {
          "base_uri": "https://localhost:8080/"
        },
        "id": "5SGirtGURhhU",
        "outputId": "88cd6cdb-e640-46b9-a99b-c35fea5469ca"
      },
      "outputs": [
        {
          "data": {
            "text/plain": [
              "16"
            ]
          },
          "execution_count": 105,
          "metadata": {},
          "output_type": "execute_result"
        }
      ],
      "source": [
        "f_power(4)"
      ]
    },
    {
      "cell_type": "code",
      "execution_count": null,
      "metadata": {
        "colab": {
          "base_uri": "https://localhost:8080/"
        },
        "id": "qBPYM-EfRl4l",
        "outputId": "ad758ad0-391e-49cd-ddec-af7cfaa80480"
      },
      "outputs": [
        {
          "data": {
            "text/plain": [
              "64"
            ]
          },
          "execution_count": 106,
          "metadata": {},
          "output_type": "execute_result"
        }
      ],
      "source": [
        "f_power(4,3)"
      ]
    },
    {
      "cell_type": "code",
      "execution_count": null,
      "metadata": {
        "colab": {
          "base_uri": "https://localhost:8080/"
        },
        "id": "r9G8zWhKRnSH",
        "outputId": "92841ff2-d791-424b-b294-8d6acd52c805"
      },
      "outputs": [
        {
          "data": {
            "text/plain": [
              "(64, 64)"
            ]
          },
          "execution_count": 107,
          "metadata": {},
          "output_type": "execute_result"
        }
      ],
      "source": [
        "f_powers(4, p1=3)"
      ]
    },
    {
      "cell_type": "code",
      "execution_count": null,
      "metadata": {
        "colab": {
          "base_uri": "https://localhost:8080/"
        },
        "id": "fohOXzAsRqE-",
        "outputId": "18b93b8a-86fc-48ee-8ec7-ad7c884785ed"
      },
      "outputs": [
        {
          "name": "stdout",
          "output_type": "stream",
          "text": [
            "power1 64 power2 256\n"
          ]
        }
      ],
      "source": [
        "xp1, xp2 = f_powers(4, p2=4, p1=3)\n",
        "print(\"power1\",xp1, \"power2\", xp2)"
      ]
    },
    {
      "cell_type": "markdown",
      "metadata": {
        "id": "qa2gm3gcwv5J"
      },
      "source": [
        "# Paso por valor y referencia\n",
        "\n",
        "Dependiendo del tipo de dato que enviemos a la **función**, podemos diferenciar dos comportamientos:\n",
        "\n",
        "**Paso por valor**: Se crea una copia local de la variable dentro de la función.\n",
        "\n",
        "**Paso por referencia**: Se maneja directamente la variable, los cambios realizados dentro de la función le afectarán también fuera.\n",
        "\n",
        "Tradicionalmente:\n",
        "\n",
        "**Los tipos simples se pasan por valor**: Enteros, flotantes, cadenas, lógicos...\n",
        "\n",
        "**Los tipos compuestos se pasan por referencia**: Listas, diccionarios, conjuntos...\n"
      ]
    },
    {
      "cell_type": "markdown",
      "metadata": {
        "id": "wS7mnGAuxKVJ"
      },
      "source": [
        "**Ejemplo de paso por valor**\n",
        "\n",
        "Como ya sabemos los números se pasan por valor y crean una copia dentro de la función, por eso no les afecta externamente lo que hagamos con ellos:"
      ]
    },
    {
      "cell_type": "code",
      "execution_count": null,
      "metadata": {
        "id": "DZ32v6yOxl-j"
      },
      "outputs": [],
      "source": [
        "def doblar_valor(x):\n",
        "    x = 2*x\n",
        "    return x"
      ]
    },
    {
      "cell_type": "code",
      "execution_count": null,
      "metadata": {
        "colab": {
          "base_uri": "https://localhost:8080/"
        },
        "id": "FuhiIByByEaP",
        "outputId": "123d5e5c-3395-4962-f359-2d5d54a7107c"
      },
      "outputs": [
        {
          "name": "stdout",
          "output_type": "stream",
          "text": [
            "10 20\n"
          ]
        }
      ],
      "source": [
        "x=10\n",
        "doblar_valor(x)\n",
        "print(x,doblar_valor(x))"
      ]
    },
    {
      "cell_type": "markdown",
      "metadata": {
        "id": "5RNDoPqWzMC3"
      },
      "source": [
        "Para modificar los tipos simples podemos devolverlos modificados y reasignarlos:"
      ]
    },
    {
      "cell_type": "code",
      "execution_count": null,
      "metadata": {
        "colab": {
          "base_uri": "https://localhost:8080/"
        },
        "id": "FTgOjjCXzNbg",
        "outputId": "c001a003-da2d-4cc6-fac7-79333639e74b"
      },
      "outputs": [
        {
          "name": "stdout",
          "output_type": "stream",
          "text": [
            "20\n"
          ]
        }
      ],
      "source": [
        "x = 10\n",
        "x = doblar_valor(x)\n",
        "print(x)"
      ]
    },
    {
      "cell_type": "markdown",
      "metadata": {
        "id": "fC38H9NqykKM"
      },
      "source": [
        "**Ejemplo de paso por referencia**\n",
        "\n",
        "Sin embargo las listas u otras colecciones, al ser tipos compuestos se pasan por referencia, y si las modificamos dentro de la función estaremos modificándolas también fuera:"
      ]
    },
    {
      "cell_type": "code",
      "execution_count": null,
      "metadata": {
        "id": "eHRDWVZfyitu"
      },
      "outputs": [],
      "source": [
        "def doblar_valores(y):\n",
        "    for i,n in enumerate(y):\n",
        "        y[i] = 2*y[i]"
      ]
    },
    {
      "cell_type": "code",
      "execution_count": null,
      "metadata": {
        "id": "TkPDHM0e49I5"
      },
      "outputs": [],
      "source": [
        "y=[1,2,3]"
      ]
    },
    {
      "cell_type": "code",
      "execution_count": null,
      "metadata": {
        "id": "_YNke5IrjzvR"
      },
      "outputs": [],
      "source": [
        "doblar_valores(y)"
      ]
    },
    {
      "cell_type": "code",
      "execution_count": null,
      "metadata": {
        "colab": {
          "base_uri": "https://localhost:8080/"
        },
        "id": "20qNiWYMj2zk",
        "outputId": "c9752cd7-57f7-450a-c5a8-3eea0e96212f"
      },
      "outputs": [
        {
          "name": "stdout",
          "output_type": "stream",
          "text": [
            "[2, 4, 6]\n"
          ]
        }
      ],
      "source": [
        "print(y)"
      ]
    }
  ],
  "metadata": {
    "celltoolbar": "Tags",
    "colab": {
      "provenance": [],
      "toc_visible": true
    },
    "kernelspec": {
      "display_name": "Python 3",
      "name": "python3"
    },
    "language_info": {
      "codemirror_mode": {
        "name": "ipython",
        "version": 3
      },
      "file_extension": ".py",
      "mimetype": "text/x-python",
      "name": "python",
      "nbconvert_exporter": "python",
      "pygments_lexer": "ipython3",
      "version": "3.8.12"
    },
    "toc": {
      "toc_cell": false,
      "toc_number_sections": true,
      "toc_threshold": 6,
      "toc_window_display": false
    }
  },
  "nbformat": 4,
  "nbformat_minor": 0
}